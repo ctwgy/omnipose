{
 "cells": [
  {
   "cell_type": "code",
   "execution_count": null,
   "id": "0",
   "metadata": {},
   "outputs": [],
   "source": [
    "!nvcc --version\n",
    "!nvidia-smi\n",
    "%load_ext autoreload\n",
    "%autoreload 2\n",
    "\n",
    "\n",
    "import sys\n",
    "sys.path.insert(1, '/home/kcutler/kevin_utils/')\n",
    "from kevin import rescale, ncolorlabel, endpoints, getskel\n",
    "\n",
    "import numpy as np\n",
    "# import cupy as np\n",
    "import time, os, sys\n",
    "from urllib.parse import urlparse\n",
    "from urllib.parse import urlparse\n",
    "from cellpose_omni import models\n",
    "\n",
    "use_GPU = models.use_gpu()\n",
    "print('>>> GPU activated? %d'%use_GPU)"
   ]
  },
  {
   "cell_type": "code",
   "execution_count": null,
   "id": "1",
   "metadata": {},
   "outputs": [],
   "source": [
    "import time, os, sys\n",
    "import skimage.io\n",
    "import matplotlib.pyplot as plt\n",
    "plt.style.use('dark_background')\n",
    "import matplotlib as mpl\n",
    "%matplotlib inline\n",
    "mpl.rcParams['figure.dpi'] = 300\n",
    "from cellpose_omni import utils"
   ]
  },
  {
   "cell_type": "code",
   "execution_count": null,
   "id": "2",
   "metadata": {},
   "outputs": [],
   "source": [
    "from cellpose_omni import io\n",
    "from tifffile import imread\n",
    "import skimage.io\n"
   ]
  },
  {
   "cell_type": "code",
   "execution_count": null,
   "id": "3",
   "metadata": {},
   "outputs": [],
   "source": [
    "# basedir = '/home/kcutler/DataDrive/images_cyto_oct_server/test/'\n",
    "basedir = '/home/kcutler/DataDrive/images_cyto_oct_server/train/'\n",
    "mask_filter = '_masks'\n",
    "img_filter = ''\n",
    "img_names = io.get_image_files(basedir,mask_filter,img_filter)\n",
    "mask_names,flow_names = io.get_label_files(img_names, mask_filter,img_filter)\n",
    "imgs = [skimage.io.imread(f) for f in img_names]\n",
    "masks = [skimage.io.imread(f) for f in mask_names]\n",
    "diameters = np.array([utils.diameters(m)[0] for m in masks]) \n",
    "# print(files)\n",
    "# basedir = '/home/kcutler/DataDrive/final_train/'\n",
    "# mask_filter = '_masks'\n",
    "# img_names = io.get_image_files(basedir,mask_filter)\n",
    "# mask_names,flow_names = io.get_label_files(img_names, mask_filter)\n",
    "# imgs = [imread(f) for f in img_names]\n",
    "# masks = [imread(f) for f in mask_names]\n",
    "# flows = [imread(f) for f in flow_names]"
   ]
  },
  {
   "cell_type": "code",
   "execution_count": null,
   "id": "4",
   "metadata": {},
   "outputs": [],
   "source": [
    "cnt = 0;\n",
    "r = [0]*len(masks)\n",
    "for i,mask in enumerate(masks):\n",
    "    m = utils.format_labels(mask)\n",
    "    lbls = np.unique(m)\n",
    "    cnt += len(lbls[lbls>0])\n",
    "    fg = np.count_nonzero(m>0)\n",
    "    bg = np.count_nonzero(m==0)\n",
    "    r[i] = fg/(fg+bg)\n",
    "    "
   ]
  },
  {
   "cell_type": "code",
   "execution_count": null,
   "id": "5",
   "metadata": {},
   "outputs": [],
   "source": [
    "ind = np.argmin(r)\n",
    "plt.imshow(rescale(imgs[ind]))\n",
    "len(imgs)"
   ]
  },
  {
   "cell_type": "code",
   "execution_count": null,
   "id": "6",
   "metadata": {},
   "outputs": [],
   "source": [
    "from cellpose_omni import models\n",
    "\n",
    "skel=False\n",
    "if skel:\n",
    "    modeldir = '/home/kcutler/DataDrive/images_cyto_oct_server/train/models/cellpose_residual_on_style_on_concatenation_off_train_2021_07_28_22_55_30.617388_epoch_3999'\n",
    "    nclasses = 4\n",
    "    chan = [2,1]\n",
    "else: \n",
    "    modeldir = 'cyto2'\n",
    "    chan = [0,0]\n",
    "    \n",
    "diameters = np.array([utils.diameters(m,skel=skel)[0] for m in masks]) \n",
    "\n",
    "model = models.CellposeModel(gpu=use_GPU, pretrained_model=modeldir, net_avg=False, nclasses=nclasses,skel=skel)\n",
    "# model = models.CellposeModel(net_avg=False)\n",
    "\n",
    "sizemodel = models.SizeModel(device=model.device, cp_model=model)"
   ]
  },
  {
   "cell_type": "code",
   "execution_count": null,
   "id": "7",
   "metadata": {},
   "outputs": [],
   "source": [
    "# inds = range(10)\n",
    "inds = range(len(imgs))\n",
    "print(inds)\n",
    "params = sizemodel.train([imgs[i] for i in inds],[masks[i] for i in inds],channels=chan,n_epochs=10, batch_size=8,skel=skel) #NEEDS CHANNELS ARGUMENT???"
   ]
  },
  {
   "cell_type": "code",
   "execution_count": null,
   "id": "8",
   "metadata": {},
   "outputs": [],
   "source": [
    "inds = range(5)\n",
    "print(sizemodel.diam_mean)\n",
    "diam, diam_style = sizemodel.eval([imgs[i] for i in inds],channels=[0,0],skel=skel)"
   ]
  },
  {
   "cell_type": "code",
   "execution_count": null,
   "id": "9",
   "metadata": {},
   "outputs": [],
   "source": [
    "d = np.array([diameters[i] for i in inds])\n",
    "error_ds = (diam_style-d)/d\n",
    "error_d = (diam-d)/d\n",
    "print('mean diam_style fractional error is', np.mean(error_ds**2)**.5)\n",
    "print('mean diam fractional error is', np.mean(error_d**2)**.5)"
   ]
  },
  {
   "cell_type": "code",
   "execution_count": null,
   "id": "10",
   "metadata": {},
   "outputs": [],
   "source": [
    "np.divide(diam,[diameters[i] for i in inds])"
   ]
  },
  {
   "cell_type": "code",
   "execution_count": null,
   "id": "11",
   "metadata": {},
   "outputs": [],
   "source": [
    "from cellpose_omni import transforms\n",
    "# inds = range(8)\n",
    "img,lbl,sc = transforms.random_rotate_and_resize([imgs[k][:,:,np.newaxis] for k in inds],[flows[k] for k in inds],xy=(220,220))\n",
    "sizemodel.cp.network(img)"
   ]
  },
  {
   "cell_type": "code",
   "execution_count": null,
   "id": "12",
   "metadata": {},
   "outputs": [],
   "source": []
  },
  {
   "cell_type": "code",
   "execution_count": null,
   "id": "13",
   "metadata": {},
   "outputs": [],
   "source": [
    "sizemodel.cp.network(img.swapaxes(-1,1))"
   ]
  },
  {
   "cell_type": "code",
   "execution_count": null,
   "id": "14",
   "metadata": {},
   "outputs": [],
   "source": [
    "# [imgs[k][np.newaxis,:,:] for k in inds]\n",
    "[flows[k] for k in inds]"
   ]
  },
  {
   "cell_type": "code",
   "execution_count": null,
   "id": "15",
   "metadata": {},
   "outputs": [],
   "source": [
    "plt.imshow(imgs[9][0])"
   ]
  },
  {
   "cell_type": "code",
   "execution_count": null,
   "id": "16",
   "metadata": {},
   "outputs": [],
   "source": [
    "diameters = np.array([utils.diameters(m)[0] for m in masks]) "
   ]
  },
  {
   "cell_type": "code",
   "execution_count": null,
   "id": "17",
   "metadata": {},
   "outputs": [],
   "source": [
    "diameters"
   ]
  },
  {
   "cell_type": "code",
   "execution_count": null,
   "id": "18",
   "metadata": {},
   "outputs": [],
   "source": [
    "model.diameters"
   ]
  },
  {
   "cell_type": "code",
   "execution_count": null,
   "id": "19",
   "metadata": {},
   "outputs": [],
   "source": [
    "len(masks)"
   ]
  },
  {
   "cell_type": "code",
   "execution_count": null,
   "id": "20",
   "metadata": {},
   "outputs": [],
   "source": []
  }
 ],
 "metadata": {
  "kernelspec": {
   "display_name": "Python 3",
   "language": "python",
   "name": "python3"
  },
  "language_info": {
   "codemirror_mode": {
    "name": "ipython",
    "version": 3
   },
   "file_extension": ".py",
   "mimetype": "text/x-python",
   "name": "python",
   "nbconvert_exporter": "python",
   "pygments_lexer": "ipython3",
   "version": "3.8.10"
  }
 },
 "nbformat": 4,
 "nbformat_minor": 5
}
