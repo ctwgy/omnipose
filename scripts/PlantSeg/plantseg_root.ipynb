{
 "cells": [
  {
   "cell_type": "markdown",
   "id": "0",
   "metadata": {},
   "source": [
    "This script parses the PlantSeg LateralRootPrimordia dataset that we used in our paper. It comes in HDF5 format, and many have an 'ignore' label that will not work with Omnipose without some special revisions. We tossed out any data with this -1 label, but kept the files in their 'test' or 'train' folders. The images were downsampled by 1/3 to get cells in the range of 20-30px in diameter. This was done only to speed up training and evaluation with far smaller volumes. "
   ]
  },
  {
   "cell_type": "code",
   "execution_count": null,
   "id": "1",
   "metadata": {},
   "outputs": [],
   "source": [
    "%load_ext autoreload\n",
    "%autoreload 2\n",
    "\n",
    "\n",
    "import numpy as np\n",
    "import time, os, sys\n",
    "\n",
    "import skimage.io\n",
    "import matplotlib.pyplot as plt\n",
    "plt.style.use('dark_background')\n",
    "import matplotlib as mpl\n",
    "%matplotlib inline\n",
    "mpl.rcParams['figure.dpi'] = 300\n",
    "\n",
    "from scipy.ndimage import binary_closing,grey_closing\n",
    "from skimage import measure\n",
    "import napari \n",
    "import omnipose\n",
    "import ncolor \n",
    "from omnipose.utils import sinebow\n",
    "\n",
    "from scipy.ndimage import gaussian_filter\n",
    "from omnipose.utils import normalize99, rescale\n",
    "from scipy.ndimage import gaussian_filter\n",
    "\n",
    "def localnormalize(im,sigma1=2,sigma2=3):\n",
    "    im = normalize99(im)\n",
    "    blur1 = gaussian_filter(im,sigma=sigma1)\n",
    "    num = im - blur1\n",
    "    blur2 = gaussian_filter(num*num, sigma=sigma2)\n",
    "    den = np.sqrt(blur2)\n",
    "    \n",
    "    return normalize99(num/den+1e-8)\n",
    "\n",
    "def cyclic_perm(a):\n",
    "    n = len(a)\n",
    "    b = [[a[i - j] for i in range(n)] for j in range(n)]\n",
    "    return b\n",
    "\n",
    "import tifffile\n",
    "from omnipose import core\n",
    "import cellpose_omni.core\n",
    "use_GPU = cellpose.core.use_gpu()"
   ]
  },
  {
   "cell_type": "code",
   "execution_count": null,
   "id": "2",
   "metadata": {},
   "outputs": [],
   "source": [
    "from cellpose_omni import io\n",
    "save0 = '/home/kcutler/DataDrive/plantseg/traintest/LateralRootPrimordia/'\n",
    "export = '/home/kcutler/DataDrive/plantseg/traintest/LateralRootPrimordia/export_good'\n",
    "export = '/home/kcutler/DataDrive/plantseg/traintest/LateralRootPrimordia/export_small'\n",
    "export = '/home/kcutler/DataDrive/plantseg/traintest/LateralRootPrimordia/export_small_all'\n",
    "io.check_dir(export)\n",
    "savedir = []\n",
    "expdir = []\n",
    "cpdir = []\n",
    "ext = '.tif'\n",
    "subset = ['test','train']\n",
    "for s in subset:\n",
    "    sd = os.path.join(save0,s)\n",
    "    savedir.append(sd)\n",
    "    sd = os.path.join(export,s)\n",
    "    io.check_dir(sd)\n",
    "    expdir.append(sd)\n",
    "    sd = os.path.join(export,'cellpose',s)\n",
    "    io.check_dir(sd)\n",
    "    cpdir.append(sd)\n",
    "savedir,expdir,cpdir"
   ]
  },
  {
   "cell_type": "code",
   "execution_count": null,
   "id": "3",
   "metadata": {},
   "outputs": [],
   "source": [
    "# Make a function that extracts the file name \n",
    "from pathlib import Path\n",
    "def getname(path,suffix=''):\n",
    "    return os.path.splitext(Path(path).name)[0].replace(suffix,'')"
   ]
  },
  {
   "cell_type": "code",
   "execution_count": null,
   "id": "4",
   "metadata": {},
   "outputs": [],
   "source": [
    "#prepare to read from the hd5 files \n",
    "import h5py, fastremap\n",
    "d = []\n",
    "names = []\n",
    "ext = '.tif'\n",
    "# bad = [4,6,10,12,14,16,18,20]"
   ]
  },
  {
   "cell_type": "code",
   "execution_count": null,
   "id": "5",
   "metadata": {
    "tags": []
   },
   "outputs": [],
   "source": [
    "import scipy\n",
    "do_all = True # training was done on the limited dataset; testing done on full, ignoring other regions?\n",
    "downsize = True\n",
    "factor = 1/3"
   ]
  },
  {
   "cell_type": "code",
   "execution_count": null,
   "id": "6",
   "metadata": {
    "jupyter": {
     "outputs_hidden": true
    },
    "tags": []
   },
   "outputs": [],
   "source": [
    "for folder,newfolder in zip(savedir,expdir):\n",
    "    image_names = io.get_image_files(folder,extensions=['h5'])\n",
    "    for filename in image_names:\n",
    "        with h5py.File(filename, \"r\") as f:\n",
    "            name = getname(filename)\n",
    "            # if not np.any([\"%04d\" % b in name for b in bad]):\n",
    "\n",
    "            # List all groups\n",
    "            print(\"Keys: %s\" % f.keys())\n",
    "\n",
    "            masks = np.array(f['label'])            \n",
    "            # if do_all:\n",
    "            #     masks[masks<1] = 0 # just set all ignore regions to zero\n",
    "            print(masks.min(),name)\n",
    "            if masks.min()==1 or do_all:\n",
    "                masks = omnipose.utils.format_labels(masks,ignore=do_all) # this corrects for any duplicate labes on distinct cells\n",
    "                img = np.array(f['raw'])\n",
    "                fastremap.renumber(masks,in_place=True)\n",
    "                labels = fastremap.refit(masks)\n",
    " \n",
    "                if downsize:\n",
    "                    labels = scipy.ndimage.zoom(labels, factor, order=0)\n",
    "                    img = scipy.ndimage.zoom(img, factor, order=1)\n",
    "                    \n",
    "                # tifffile.imwrite(os.path.join(newfolder,name+ext),np.uint8(omnipose.utils.normalize99(img)*(2**8-1)))\n",
    "                tifffile.imwrite(os.path.join(newfolder,name+ext),img)\n",
    "                tifffile.imwrite(os.path.join(newfolder,name+'_masks'+ext),labels)\n",
    "                d.append(omnipose.core.diameters(labels))\n",
    "                # mlist.append(masks)\n",
    "                names.append(name)\n",
    "           "
   ]
  },
  {
   "cell_type": "markdown",
   "id": "7",
   "metadata": {
    "tags": []
   },
   "source": [
    "The above files will be used for Omnipose in 3D. To train Cellpose, we have to slice these volumes along each axis. This will produce a lot of images. I'll just be doing it on the AWS server prior to training. Turns out this is 3,070 training images. "
   ]
  },
  {
   "cell_type": "code",
   "execution_count": null,
   "id": "8",
   "metadata": {},
   "outputs": [],
   "source": [
    "d = 3\n",
    "idx = np.arange(d)\n",
    "c = np.array([0]*(d-2)+[1]*2)\n",
    "cyclic_perm(c),idx,c\n",
    "ext = '.tif'\n",
    "a = 'zyx'\n",
    "# for basedir,save0 in zip(expdir,cpdir):\n",
    "for basedir,save0 in zip([expdir[1]],[cpdir[1]]): #only do train \n",
    "\n",
    "    mask_filter = '_masks'\n",
    "    img_names = io.get_image_files(basedir,mask_filter)\n",
    "    mask_names,_ = io.get_label_files(img_names, mask_filter)\n",
    "\n",
    "    for p1,p2 in zip(img_names,mask_names):\n",
    "        img = tifffile.imread(p1)\n",
    "        mask = tifffile.imread(p2)\n",
    "        s = img.shape\n",
    "        name = getname(p1)\n",
    "\n",
    "        for inds,i in zip(cyclic_perm(c),idx):\n",
    "            for k in range(s[i]):\n",
    "                slc = tuple([slice(-1) if i else k for i in inds])\n",
    "                suffix = '_'+a[i]+'{:03d}'.format(k)\n",
    "                l = omnipose.utils.format_labels(mask[slc],clean=True) # this corrects for any duplicate labels on distinct cells\n",
    "                if np.any(l): # only keep slices that have masks\n",
    "                    tifffile.imwrite(os.path.join(save0,name+suffix+ext),img[slc])\n",
    "                    tifffile.imwrite(os.path.join(save0,name+suffix+'_masks'+ext),l)"
   ]
  },
  {
   "cell_type": "markdown",
   "id": "9",
   "metadata": {},
   "source": [
    "### Load data"
   ]
  },
  {
   "cell_type": "code",
   "execution_count": null,
   "id": "10",
   "metadata": {
    "tags": []
   },
   "outputs": [],
   "source": [
    "imgs = []\n",
    "masks_gt = []\n",
    "k = 0 #just test files now, switch to 1 to look at training set\n",
    "for basedir,save0 in zip([expdir[k]],[cpdir[k]]): \n",
    "    mask_filter = '_masks'\n",
    "    img_names = io.get_image_files(basedir,mask_filter)\n",
    "    mask_names = io.get_label_files(img_names, mask_filter)\n",
    "\n",
    "    for p1,p2 in zip(img_names,mask_names):\n",
    "        imgs.append(tifffile.imread(p1))\n",
    "        mgt = tifffile.imread(p2)\n",
    "        mgt = omnipose.utils.format_labels(mgt,clean=True,verbose=False,ignore=do_all)\n",
    "        masks_gt.append(mgt)\n",
    "# count cells in test set\n",
    "c = 0\n",
    "for mgt in masks_gt:\n",
    "    c+=len(fastremap.unique(mgt))-1 #ignore 0"
   ]
  },
  {
   "cell_type": "code",
   "execution_count": null,
   "id": "11",
   "metadata": {
    "tags": []
   },
   "outputs": [],
   "source": [
    "print('number of cells in {} is {}, number of images is {}'.format(subset[k],c,len(imgs)))"
   ]
  },
  {
   "cell_type": "code",
   "execution_count": null,
   "id": "12",
   "metadata": {
    "tags": []
   },
   "outputs": [],
   "source": [
    "%matplotlib inline\n",
    "plt.imshow(masks[masks.shape[0]//2])"
   ]
  },
  {
   "cell_type": "code",
   "execution_count": null,
   "id": "13",
   "metadata": {
    "tags": []
   },
   "outputs": [],
   "source": [
    "# plt.imshow(img[img.shape[0]//2])\n",
    "# img.shape,masks.shape\n",
    "604"
   ]
  },
  {
   "cell_type": "code",
   "execution_count": null,
   "id": "14",
   "metadata": {
    "tags": []
   },
   "outputs": [],
   "source": [
    "# save slices theough each axis for figures\n",
    "%matplotlib inline\n",
    "from omnipose.utils import rescale, sinebow\n",
    "from cellpose_omni import plot\n",
    "\n",
    "cmap = plt.get_cmap(name='viridis')\n",
    "x = np.linspace(0,1,1000)\n",
    "colors=cmap(1-x)\n",
    "colors[...,-1] = x\n",
    "cmap = {\n",
    "    'colors': colors,\n",
    "    'name': 'custom',\n",
    "    'interpolation': 'linear'\n",
    "}\n",
    "cmap = ListedColormap(list(colors))\n",
    "\n",
    "save0 = os.path.join('/home/kcutler/DataDrive/omnipose_paper/Figure 7','slices',subset[k])\n",
    "io.check_dir(save0)\n",
    "\n",
    "fig = plt.figure(figsize=[20]*2)\n",
    "def cyclic_perm(a):\n",
    "    n = len(a)\n",
    "    b = [[a[i - j] for i in range(n)] for j in range(n)]\n",
    "    return b\n",
    "\n",
    "for i,name in enumerate([names[0]]):\n",
    "    print(name,i)\n",
    "    for j in range(len(imgs)):\n",
    "        img = omnipose.utils.normalize99(imgs[j]**.2)\n",
    "        mgt = masks_gt[j]\n",
    "        mnc = ncolor.label(mgt)\n",
    "        smap = sinebow(mnc.max()+1)\n",
    "        smap = ListedColormap(list(smap.values()))\n",
    "        # plot flow and dist slices \n",
    "        d = img.ndim\n",
    "        c = np.array([0]*(d-2)+[1]*2)\n",
    "\n",
    "        slices = []\n",
    "        idx = np.arange(d)\n",
    "        for inds in cyclic_perm(c):\n",
    "            slc = tuple([slice(None) if i else img.shape[k]//2 for i,k in zip(inds,idx)])\n",
    "            # mgtnc = ncolor.label(mgt[slc])\n",
    "            mgtnc = mnc[slc]\n",
    "            \n",
    "            pic = smap(mgtnc)\n",
    "            pic[...,-1] = mgtnc>0\n",
    "            tifffile.imwrite(os.path.join(save0,'slice_'+str(j)+'_'+str(inds)+'_gt.tif'),np.uint8(omnipose.utils.rescale(pic)*(2**8-1)))\n",
    "            plt.imshow(mgt[slc],interpolation='none')\n",
    "            pic = cmap(img[slc])\n",
    "            # pic[...,-1] = imgs[j][slc]\n",
    "            tifffile.imwrite(os.path.join(save0,'slice_'+str(j)+'_'+str(inds)+'_img.tif'),np.uint8(omnipose.utils.rescale(pic)*(2**8-1)))\n",
    "            # plt.imshow(pic)\n",
    "            # plt.imshow(mnc[slc],interpolation='none')\n",
    "            plt.axis('off')\n",
    "            plt.show()"
   ]
  },
  {
   "cell_type": "markdown",
   "id": "15",
   "metadata": {
    "tags": []
   },
   "source": [
    "### Plot in 3D"
   ]
  },
  {
   "cell_type": "code",
   "execution_count": null,
   "id": "16",
   "metadata": {
    "tags": []
   },
   "outputs": [],
   "source": [
    "# im = imgs[0]\n",
    "# mask = masks_gt[0]\n",
    "im = tiffile.imread('/Volumes/DataDrive/plantseg/traintest/LateralRootPrimordia/export/train/Movie3_T00004_crop_gt.tif')\n",
    "mask = tiffile.imread('/Volumes/DataDrive/plantseg/traintest/LateralRootPrimordia/export/train/Movie3_T00004_crop_gt_masks.tif')\n",
    "\n",
    "dim = mask.ndim\n",
    "# fgt = omnipose.core.labels_to_flows(mask,dim=dim)\n",
    "# dt = fgt[1]\n",
    "# mu = fgt[2:2+dim]\n",
    "# sd = fgt[-1]\n",
    "\n",
    "_, dt, sd, mu = omnipose.core.masks_to_flows(mask,use_gpu=True,dim=dim,omni=True)"
   ]
  },
  {
   "cell_type": "code",
   "execution_count": null,
   "id": "17",
   "metadata": {
    "tags": []
   },
   "outputs": [],
   "source": [
    "viewer = napari.view_image(omnipose.utils.rescale(sd), name='distance',gamma=0.2,attenuation=0.05,depiction='volume')\n",
    "viewer.add_image(omnipose.utils.rescale(dt==1), name='boundary',visible=True)\n",
    "mnc = ncolor.label(mask,max_depth=11)\n",
    "viewer.add_labels(mnc, name='labels_gt',visible = False, color=sinebow(mnc.max()))"
   ]
  },
  {
   "cell_type": "code",
   "execution_count": null,
   "id": "18",
   "metadata": {
    "tags": []
   },
   "outputs": [],
   "source": [
    "from cellpose_omni import plot\n",
    "rgb = plot.dx_to_circ(mu,transparency=0)\n",
    "# for k,s in enumerate('RGB'):\n",
    "#     viewer.add_image(rgb[...,k], name=s,visible=True)\n",
    "viewer.add_image(rgb, channel_axis=-1, name=['R','G','B']) #, colormap=['red', 'green', 'blue']"
   ]
  },
  {
   "cell_type": "code",
   "execution_count": null,
   "id": "19",
   "metadata": {
    "tags": []
   },
   "outputs": [],
   "source": [
    "# cmaps = ['Reds','Greens','Blues']\n",
    "# x = np.linspace(0,1,100)\n",
    "# z = np.zeros_like(x)\n",
    "# o = np.ones_like(x)\n",
    "# o[0] = 0\n",
    "# red = np.stack((x,z,z,o),axis=-1)\n",
    "# green = np.stack((z,x,z,o),axis=-1)\n",
    "# blue = np.stack((z,z,x,o),axis=-1)\n",
    "# colors = [red,green,blue]\n",
    "# for k,s in enumerate('RGB'):\n",
    "#     # cmap = plt.get_cmap(name=cmaps[k])\n",
    "#     # # colors=cmap(1-x)\n",
    "#     # colors = cmap(x)\n",
    "#     # colors[...,-1] = x\n",
    "    \n",
    "#     new_colormap = {\n",
    "#         'colors': colors[k],\n",
    "#         'name': 'custom',\n",
    "#         'interpolation': 'linear'\n",
    "#     }\n",
    "    \n",
    "#     viewer.layers[s].colormap = new_colormap\n",
    "#     # viewer.layers[s].colormap = 'gray_r'\n",
    "#     # viewer.layers[s].rendering= 'translucent'\n",
    "#     # # viewer.layers[s].contrast_limits=[0,1]\n",
    "#     # viewer.layers[s].blending = 'additive'\n",
    "#     # viewer.layers[s].opacity = 1\n",
    "#     # viewer.layers[s].attenuation = .1"
   ]
  },
  {
   "cell_type": "code",
   "execution_count": null,
   "id": "20",
   "metadata": {
    "tags": []
   },
   "outputs": [],
   "source": []
  },
  {
   "cell_type": "code",
   "execution_count": null,
   "id": "21",
   "metadata": {
    "tags": []
   },
   "outputs": [],
   "source": [
    "# # plt.get_cmap(name=cmaps[k])\n",
    "# # np.stack([c in rgb],axis=-1)\n",
    "# viewer.add_image(rgb, name='rgb',visible=True,rgb=True)"
   ]
  },
  {
   "cell_type": "code",
   "execution_count": null,
   "id": "22",
   "metadata": {
    "tags": []
   },
   "outputs": [],
   "source": [
    "viewer.dims.ndisplay = 3\n",
    "viewer.camera.center = [s//2 for s in im.shape]\n",
    "viewer.camera.zoom=1.75\n",
    "viewer.camera.angles=(49.01724873267338, -59.486485045019705, 36.815397248657874)\n",
    "viewer.camera.perspective=0.0\n",
    "viewer.camera.interactive=True"
   ]
  },
  {
   "cell_type": "code",
   "execution_count": null,
   "id": "23",
   "metadata": {
    "tags": []
   },
   "outputs": [],
   "source": [
    "cmap = plt.get_cmap(name='magma')\n",
    "x = np.linspace(0,1,100)\n",
    "colors=cmap(1-x)\n",
    "# colors = cmap(x)\n",
    "colors[...,-1] = x\n",
    "# colors[0,...,-1] = 0\n",
    "new_colormap = {\n",
    "    'colors': colors,\n",
    "    'name': 'custom',\n",
    "    'interpolation': 'linear'\n",
    "}\n",
    "for key in ['distance']:\n",
    "    viewer.layers[key].colormap = new_colormap\n",
    "    viewer.layers[key].rendering='translucent'\n",
    "    viewer.layers[key].contrast_limits=[0,1]\n",
    "    \n",
    "cmap = plt.get_cmap(name='inferno')\n",
    "x = np.linspace(0,1,100)\n",
    "colors=cmap(1-x)\n",
    "# colors = cmap(x)\n",
    "colors[...,-1] = x\n",
    "new_colormap = {\n",
    "    'colors': colors,\n",
    "    'name': 'custom',\n",
    "    'interpolation': 'linear'\n",
    "}\n",
    "\n",
    "key = 'boundary'\n",
    "viewer.layers[key].colormap = new_colormap\n",
    "viewer.layers[key].rendering='attenuated_mip'\n",
    "viewer.layers[key].contrast_limits=[0,1]"
   ]
  },
  {
   "cell_type": "code",
   "execution_count": null,
   "id": "24",
   "metadata": {
    "tags": []
   },
   "outputs": [],
   "source": [
    "# add axes\n",
    "n_axes = 3\n",
    "vectors = np.zeros((n_axes, 2, 3), dtype=np.float32)\n",
    "x_px = np.array([1, 0, 0])\n",
    "y_py = np.array([0, 1, 0])\n",
    "z_pz = np.array([0, 0, 1])\n",
    "vectors[0, 1] = x_px\n",
    "vectors[1, 1] = y_py\n",
    "vectors[2, 1] = z_pz\n",
    "for k in range(im.ndim):\n",
    "    viewer.add_vectors(vectors[k], name='ax'+str(k), edge_width=1,edge_color='k',blending='translucent_no_depth', length=im.shape[k])"
   ]
  },
  {
   "cell_type": "code",
   "execution_count": null,
   "id": "25",
   "metadata": {
    "tags": []
   },
   "outputs": [],
   "source": [
    "basedir = '/home/kcutler/DataDrive/omnipose_paper/Figure 7/gt'\n",
    "io.check_dir(basedir)\n",
    "layerlist = ['distance','boundary','labels_gt']\n",
    "for name in layerlist:\n",
    "    viewer.layers[name].visible = False\n",
    "\n",
    "for name in layerlist:\n",
    "    viewer.layers[name].visible = True\n",
    "\n",
    "    img = viewer.screenshot(size=(2000,2000),scale=1,canvas_only=True,flash=False)\n",
    "    viewer.layers[name].visible = False\n",
    "\n",
    "    io.imsave(os.path.join(basedir,'3D_'+name+'_seg.png'),img)"
   ]
  },
  {
   "cell_type": "code",
   "execution_count": null,
   "id": "26",
   "metadata": {
    "tags": []
   },
   "outputs": [],
   "source": [
    "# Show Euler integration \n",
    "dists = dt.copy()\n",
    "dists[dists==0]=-5\n",
    "cell_ID = 1\n",
    "inds = np.array(np.nonzero(mask==cell_ID)).astype(np.int32)\n",
    "masks_pred, p, tr = omnipose.core.compute_masks(mu,dists,inds=inds,calc_trace=True,use_gpu=1,\n",
    "                                           omni=1,niter=200,interp=1,mask_threshold=-1,verbose=True,\n",
    "                                          flow_threshold = 0.0, min_size=0, dim=3, cluster=1)"
   ]
  },
  {
   "cell_type": "code",
   "execution_count": null,
   "id": "27",
   "metadata": {
    "tags": []
   },
   "outputs": [],
   "source": [
    "# np.unique(masks_pred)\n",
    "# tr.shape\n",
    "bd_inds = np.argwhere(dists[tuple(inds)]==1) # which of the inds correspond to bpundary points"
   ]
  },
  {
   "cell_type": "code",
   "execution_count": null,
   "id": "28",
   "metadata": {
    "tags": []
   },
   "outputs": [],
   "source": [
    "# bd_inds = np.array(np.nonzero(dists[tuple(inds)]==1))\n",
    "bd_inds = np.hstack(np.argwhere(dists[tuple(inds)]==1)) #equivalent, better shape\n",
    "tr[:,bd_inds,:].shape"
   ]
  },
  {
   "cell_type": "code",
   "execution_count": null,
   "id": "29",
   "metadata": {
    "tags": []
   },
   "outputs": [],
   "source": [
    "bd_inds"
   ]
  },
  {
   "cell_type": "code",
   "execution_count": null,
   "id": "30",
   "metadata": {
    "tags": []
   },
   "outputs": [],
   "source": [
    "tracks = []\n",
    "# for ID in bd_inds:\n",
    "for ID in np.random.choice(bd_inds,len(bd_inds)//1):\n",
    "\n",
    "    track = tr[:,ID,:].T\n",
    "    times = np.arange(0,points.shape[0])[...,np.newaxis]\n",
    "    IDs = np.ones_like(times)*ID\n",
    "    \n",
    "#      # calculate the speed as a feature\n",
    "#     gz = np.gradient(track[:, 2])\n",
    "#     gy = np.gradient(track[:, 3])\n",
    "#     gx = np.gradient(track[:, 4])\n",
    "\n",
    "#     speed = np.sqrt(gx ** 2 + gy ** 2 + gz ** 2)\n",
    "#     distance = np.sqrt(x ** 2 + y ** 2 + z ** 2)\n",
    "\n",
    "#     track[:, 5] = gz\n",
    "#     track[:, 6] = gy\n",
    "#     track[:, 7] = gx\n",
    "#     track[:, 8] = speed\n",
    "#     track[:, 9] = distance\n",
    "    \n",
    "    \n",
    "    tracks.append(np.concatenate([IDs,times,track],axis=-1))\n",
    "tracks = np.concatenate(tracks, axis=0)\n",
    "features = {\n",
    "    'time': tracks[:, 1]\n",
    "}\n",
    "    #     'gradient_z': tracks[:, 5],\n",
    "    #     'gradient_y': tracks[:, 6],\n",
    "    #     'gradient_x': tracks[:, 7],\n",
    "    #     'speed': tracks[:, 8],\n",
    "    #     'distance': tracks[:, 9],\n",
    "    # }"
   ]
  },
  {
   "cell_type": "code",
   "execution_count": null,
   "id": "31",
   "metadata": {
    "tags": []
   },
   "outputs": [],
   "source": [
    "viewer.add_tracks(tracks,colormap='magma',features=features, color_by='time', blending='translucent')\n"
   ]
  },
  {
   "cell_type": "code",
   "execution_count": null,
   "id": "32",
   "metadata": {
    "tags": []
   },
   "outputs": [],
   "source": [
    "img = viewer.screenshot(size=(4000,)*2,scale=1,canvas_only=True,flash=False)"
   ]
  },
  {
   "cell_type": "code",
   "execution_count": null,
   "id": "33",
   "metadata": {
    "tags": []
   },
   "outputs": [],
   "source": [
    "basedir = '/home/kcutler/DataDrive/omnipose_paper/Figure 7/tracks'\n",
    "io.check_dir(basedir)\n",
    "io.imsave(os.path.join(basedir,'3D_'+str(cell_ID)+'_tracks.png'),img)"
   ]
  },
  {
   "cell_type": "code",
   "execution_count": null,
   "id": "34",
   "metadata": {
    "tags": []
   },
   "outputs": [],
   "source": [
    "viewer.add_labels(masks_pred, name='single',visible = False)"
   ]
  },
  {
   "cell_type": "code",
   "execution_count": null,
   "id": "35",
   "metadata": {
    "tags": []
   },
   "outputs": [],
   "source": [
    "m = np.zeros_like(dists,dtype=int)\n",
    "m[tuple(inds)] = 1\n",
    "viewer.add_labels(m, name='single_gt',visible = False)"
   ]
  },
  {
   "cell_type": "code",
   "execution_count": null,
   "id": "36",
   "metadata": {
    "tags": []
   },
   "outputs": [],
   "source": [
    "%matplotlib widget\n",
    "# plt.imshow(masks_pred[masks_pred.shape[0]//2])\n",
    "plt.imshow(mask[mask.shape[0]//2])\n",
    "\n",
    "# viewer = napari.view_image(omnipose.utils.rescale(sd), name='distance',gamma=0.2,attenuation=0.05,depiction='volume')\n",
    "# mnc = ncolor.label(masks_pred,max_depth=11)\n",
    "# viewer.add_labels(mnc, name='labels_pred',visible = False, color=sinebow(mnc.max()))"
   ]
  },
  {
   "cell_type": "markdown",
   "id": "37",
   "metadata": {
    "tags": []
   },
   "source": [
    "### Run Cellpose3D"
   ]
  },
  {
   "cell_type": "code",
   "execution_count": null,
   "id": "38",
   "metadata": {},
   "outputs": [],
   "source": [
    "# Cellpose seems to need training with  --chan 2 --chan2 1 \n",
    "modeldir = '/home/kcutler/DataDrive/plantseg/traintest/LateralRootPrimordia/export_small/cellpose/train/models/cellpose_residual_on_style_on_concatenation_off_train_2022_05_09_01_43_03.829853_epoch_499'\n",
    "omni = False\n",
    "rescale = False\n",
    "diam_mean = 0\n",
    "from cellpose_omni import models, core\n",
    "use_GPU = core.use_gpu()\n",
    "model = models.CellposeModel(gpu=use_GPU, pretrained_model=modeldir, net_avg=False, \n",
    "                             diam_mean=diam_mean)\n"
   ]
  },
  {
   "cell_type": "code",
   "execution_count": null,
   "id": "39",
   "metadata": {
    "jupyter": {
     "outputs_hidden": true
    },
    "tags": []
   },
   "outputs": [],
   "source": [
    "mask_threshold = 0 ##############\n",
    "net_avg = 0\n",
    "verbose = 0 #####\n",
    "\n",
    "tile = 0\n",
    "chans = [0,0]\n",
    "# chans = None\n",
    "compute_masks = 1\n",
    "# n = [0]\n",
    "rescale = None\n",
    "\n",
    "masks_cp, flows_cp, _ = model.eval(imgs,channels = chans,rescale=rescale,\n",
    "                                  mask_threshold=mask_threshold, net_avg=net_avg,\n",
    "                                  transparency=True, flow_threshold=0., verbose=verbose,tile=1,\n",
    "                                  compute_masks=compute_masks, do_3D=True, omni=False)"
   ]
  },
  {
   "cell_type": "code",
   "execution_count": null,
   "id": "40",
   "metadata": {},
   "outputs": [],
   "source": [
    "# now do Omnipose\n",
    "\n",
    "#best\n",
    "modeldir = '/home/kcutler/DataDrive/plantseg/traintest/LateralRootPrimordia/export_small/train/models/cellpose_residual_on_style_on_concatenation_off_omni_train_2022_05_08_01_56_56.310115_epoch_1951'\n",
    "# no improvement over cp somehow \n",
    "# modeldir = '/home/kcutler/DataDrive/plantseg/traintest/LateralRootPrimordia/export_small/train/models/cellpose_residual_on_style_on_concatenation_off_omni_train_2022_05_08_01_56_56.310115_epoch_2951'\n",
    "# try stepping back; now a ral improvement over 1951\n",
    "modeldir = '/home/kcutler/DataDrive/plantseg/traintest/LateralRootPrimordia/export_small/train/models/cellpose_residual_on_style_on_concatenation_off_omni_train_2022_05_08_01_56_56.310115_epoch_2901'\n",
    "# 2901 is great, 3051 is ok but not as strong, so try 3001 - also not as good as 1951\n",
    "# modeldir = '/home/kcutler/DataDrive/plantseg/traintest/LateralRootPrimordia/export_small/train/models/cellpose_residual_on_style_on_concatenation_off_omni_train_2022_05_08_01_56_56.310115_epoch_3001'\n",
    "#3551 also not great, nor is 3501, but 3401 is terrific, 3451 awful, 3201 meh despite low loss, 3351 bad, 3201 bad, 3251 pretty good, 3151 not great,3301 bad,\n",
    "# modeldir = '/home/kcutler/DataDrive/plantseg/traintest/LateralRootPrimordia/export_small/train/models/cellpose_residual_on_style_on_concatenation_off_omni_train_2022_05_08_01_56_56.310115_epoch_3401'\n",
    "# modeldir = '/home/kcutler/DataDrive/plantseg/traintest/LateralRootPrimordia/export_small/train/models/cellpose_residual_on_style_on_concatenation_off_omni_train_2022_05_08_01_56_56.310115_epoch_3301'\n",
    "\n",
    "dim = 3\n",
    "nclasses = dim+2\n",
    "nchan = 1\n",
    "omni = 1\n",
    "rescale = False\n",
    "diam_mean = 0\n",
    "from cellpose_omni import models, core\n",
    "# use_GPU = core.use_gpu(3)\n",
    "# print('>>> GPU activated? %d'%use_GPU)\n",
    "use_GPU = 1\n",
    "model = models.CellposeModel(gpu=use_GPU, pretrained_model=modeldir, net_avg=False, \n",
    "                             diam_mean=diam_mean, nclasses=nclasses, dim=dim, nchan=nchan)#,device=torch.device('cuda:1'))\n",
    "model.pretrained_model"
   ]
  },
  {
   "cell_type": "code",
   "execution_count": null,
   "id": "41",
   "metadata": {},
   "outputs": [],
   "source": [
    "mask_threshold = -5 ##############\n",
    "diam_threshold = 12\n",
    "net_avg = 0\n",
    "cluster = 0 ##########\n",
    "verbose = 1\n",
    "tile = 0\n",
    "chans = None\n",
    "compute_masks = 1\n",
    "resample=False\n",
    "rescale=None\n",
    "omni=True\n",
    "\n",
    "\n",
    "masks_om, flows_om, _ = model.eval(imgs,channels=None,rescale=rescale,mask_threshold=mask_threshold,net_avg=net_avg,\n",
    "                                  transparency=True,flow_threshold=0.,omni=omni,resample=resample,verbose=verbose,\n",
    "                                  diam_threshold=diam_threshold,cluster=cluster,tile=0,\n",
    "                                  compute_masks=compute_masks,flow_factor=10)\n",
    "#     else:"
   ]
  },
  {
   "cell_type": "code",
   "execution_count": null,
   "id": "42",
   "metadata": {},
   "outputs": [],
   "source": [
    "from cellpose_omni import io\n",
    "basedir = '/home/kcutler/DataDrive/omnipose_paper/Figure 7'\n",
    "io.check_dir(basedir)\n",
    "\n",
    "masks = [masks_cp,masks_om]\n",
    "flows = [flows_cp,flows_om]\n",
    "names = ['cellpose','omnipose']\n",
    "np.array(masks).shape"
   ]
  },
  {
   "cell_type": "code",
   "execution_count": null,
   "id": "43",
   "metadata": {},
   "outputs": [],
   "source": [
    "# now quanititative comparison \n",
    "from stardist import matching\n",
    "a = 0.5\n",
    "b = 1.0\n",
    "x = np.arange(a,b,(b-a)/100)\n",
    "fig = plt.figure()\n",
    "c = ['r','g']\n",
    "JI = []\n",
    "\n",
    "\n",
    "# confogure plot\n",
    "sz = 1\n",
    "golden = (1 + 5 ** 0.5) / 2\n",
    "labelsize = 7\n",
    "\n",
    "n = len(names)\n",
    "z = 1\n",
    "master_color_scheme = [[i,0,0] for i in np.linspace(1,.5,z)]+[[i,i,i] for i in np.linspace(.75,.25,n-z)]\n",
    "\n",
    "darkmode = 0\n",
    "if darkmode:\n",
    "    plt.style.use('dark_background')\n",
    "    axcol = 'w'\n",
    "    colors = sinebow(n+1)\n",
    "    colors = [colors[j+1] for j in range(n)]\n",
    "    background_color = 'k'\n",
    "    suffix = '_dark'\n",
    "else:\n",
    "    mpl.rcParams.update(mpl.rcParamsDefault)\n",
    "    axcol = 'k'\n",
    "    colors = master_color_scheme\n",
    "    # colors = sinebow(n+1)\n",
    "    # colors = [colors[j+1] for j in range(n)]\n",
    "    background_color = np.array([1,1,1,1])\n",
    "    suffix = ''\n",
    "\n",
    "mpl.rcParams['figure.dpi'] = 300\n",
    "fig = plt.figure(figsize=(sz, sz)) \n",
    "ax = plt.axes()\n",
    "\n",
    "plt.xticks(np.arange(min(x), max(x)+1, .25))\n",
    "plt.xlim([0.5,1])\n",
    "plt.ylim([0,.5])\n",
    "\n",
    "\n",
    "for i,name in enumerate(names):\n",
    "    met =[matching.matching(mgt,m, thresh=thresh) for mgt,m in zip(masks_gt, masks[i])]\n",
    "    a = np.array([[met[k][i].accuracy for i in range(len(thresh))] for k in range(len(met))]).T\n",
    "    np.save(os.path.join(basedir,name+'_3D_plants_individual'),a)\n",
    "    a = np.mean(a,axis=1)\n",
    "    JI.append(a)\n",
    "    plt.plot(x,a, label=name,c=colors[i],linewidth=.5)#+['masks_cp'])\n",
    "    np.save(os.path.join(basedir,name+'cellpose_3D_plants'),a)\n",
    "    # plt.legend\n",
    "    \n",
    "# ax.legend(prop={'size': labelsize}, loc='upper left', frameon=False,bbox_to_anchor=(1.05, 1))\n",
    "ax.tick_params(axis='both', which='major', labelsize=labelsize,length=3, direction=\"out\",colors=axcol,bottom=True,left=True)\n",
    "ax.tick_params(axis='both', which='minor', labelsize=labelsize,length=3, direction=\"out\",colors=axcol,bottom=True,left=True)\n",
    "\n",
    "ax.set_ylabel('Jaccard Index', fontsize = labelsize)\n",
    "ax.set_xlabel('IoU matching threshold', fontsize = labelsize)\n",
    "\n",
    "\n",
    "ax.spines['right'].set_visible(False)\n",
    "ax.spines['top'].set_visible(False)\n",
    "ax.patch.set_alpha(0.0)\n",
    "\n",
    "fig.patch.set_facecolor(background_color)\n",
    "plt.show()\n",
    "\n",
    "figname = 'JI_vs_IoU'\n",
    "for ext in ['.pdf','.png','.eps']:\n",
    "    fig.savefig(os.path.join(basedir,figname+suffix+ext),bbox_inches=\"tight\",pad_inches = 0.05)\n"
   ]
  },
  {
   "cell_type": "code",
   "execution_count": null,
   "id": "44",
   "metadata": {
    "tags": []
   },
   "outputs": [],
   "source": [
    "cutoff = 80 # IoU cutoff of 0.8\n",
    "\n",
    "cp = JI[0].T\n",
    "om = JI[1].T\n",
    "\n",
    "av_all = np.mean(np.divide((om-cp),cp,out=np.zeros_like(cp), where=np.logical_and(cp!=0,~np.isnan(cp))))\n",
    "av_up = np.mean(np.divide((om[cutoff:]-cp[cutoff:]),cp[cutoff:],out=np.zeros_like(cp[cutoff:]), where=np.logical_and(cp[cutoff:]!=0,~np.isnan(cp[cutoff:]))))\n",
    "av_dwn = np.mean(np.divide((om[:cutoff]-cp[:cutoff]),cp[:cutoff],out=np.zeros_like(cp[:cutoff]), where=np.logical_and(cp[:cutoff]!=0,~np.isnan(cp[:cutoff]))))\n",
    "\n",
    "print(av_all*100,av_up*100,av_dwn*100,(np.mean(om)-np.mean(cp))/np.mean(cp)*100) # turn"
   ]
  },
  {
   "cell_type": "code",
   "execution_count": null,
   "id": "45",
   "metadata": {},
   "outputs": [],
   "source": [
    "import random\n",
    "random.seed(42)\n",
    "\n",
    "k = 0\n",
    "viewer = napari.view_image(imgs[k], name='cells',visible = False)\n",
    "viewer.dims.ndisplay = 3\n",
    "\n",
    "mnc = ncolor.label(masks_gt[k],max_depth=11)\n",
    "viewer.add_labels(mnc, name='labels_gt',visible = False, color=sinebow(mnc.max()))\n",
    "\n",
    "\n",
    "# cmap = sinebow(masks[0][k].max())\n",
    "# l = list(cmap.items())[1:]\n",
    "# random.shuffle(l)\n",
    "# cmap = [(0,cmap[0])]+l\n",
    "# cmap = dict(cmap)\n",
    "mnc = ncolor.label(masks[0][k],max_depth=20)\n",
    "cmap =  sinebow(mnc.max())\n",
    "viewer.add_labels(mnc, name=names[0],visible = False, color=cmap)\n",
    "\n",
    "\n",
    "\n",
    "mnc = ncolor.label(masks[1][k],max_depth=11)\n",
    "viewer.add_labels(mnc, name=names[1], color=sinebow(mnc.max()))"
   ]
  },
  {
   "cell_type": "code",
   "execution_count": null,
   "id": "46",
   "metadata": {},
   "outputs": [],
   "source": [
    "viewer.camera.center = [s//2 for s in imgs[k].shape]\n",
    "viewer.camera.zoom=2\n",
    "viewer.camera.angles=(49.01724873267338, -59.486485045019705, 36.815397248657874)\n",
    "viewer.camera.perspective=0.0\n",
    "viewer.camera.interactive=True"
   ]
  },
  {
   "cell_type": "code",
   "execution_count": null,
   "id": "47",
   "metadata": {},
   "outputs": [],
   "source": [
    "k = 0\n",
    "j = 1\n",
    "img = imgs[k]\n",
    "n_axes = 3\n",
    "vectors = np.zeros((n_axes, 2, 3), dtype=np.float32)\n",
    "x_px = np.array([1, 0, 0])\n",
    "y_py = np.array([0, 1, 0])\n",
    "z_pz = np.array([0, 0, 1])\n",
    "vectors[0, 1] = x_px\n",
    "vectors[1, 1] = y_py\n",
    "vectors[2, 1] = z_pz\n",
    "for k in range(img.ndim):\n",
    "    viewer.add_vectors(vectors[k], name='ax'+str(k), edge_width=1,edge_color='k',blending='translucent_no_depth', length=img.shape[k])"
   ]
  },
  {
   "cell_type": "code",
   "execution_count": null,
   "id": "48",
   "metadata": {},
   "outputs": [],
   "source": [
    "# turn off all masks\n",
    "layerlist = names+['labels_gt']\n",
    "for name in layerlist:\n",
    "    viewer.layers[name].visible = False\n",
    "\n",
    "for name in layerlist:\n",
    "    viewer.layers[name].visible = True\n",
    "\n",
    "    img = viewer.screenshot(size=(2000,2000),scale=1,canvas_only=True,flash=False)\n",
    "    viewer.layers[name].visible = False\n",
    "\n",
    "    io.imsave(os.path.join(basedir,'3D_'+name+'_seg.tiff'),img)"
   ]
  },
  {
   "cell_type": "code",
   "execution_count": null,
   "id": "49",
   "metadata": {},
   "outputs": [],
   "source": [
    "viewer.add_image(omnipose.utils.rescale(flows_om[0][2]), name='distance',gamma=0.2,attenuation=0.05,depiction='volume')"
   ]
  },
  {
   "cell_type": "code",
   "execution_count": null,
   "id": "50",
   "metadata": {},
   "outputs": [],
   "source": [
    "cmap = plt.get_cmap(name='viridis')\n",
    "x = np.linspace(0,1,100)\n",
    "colors=cmap(1-x)\n",
    "colors[...,-1] = x\n",
    "new_colormap = {\n",
    "    'colors': colors,\n",
    "    'name': 'custom',\n",
    "    'interpolation': 'linear'\n",
    "}\n",
    "key = 'distance'\n",
    "viewer.layers[key].colormap = new_colormap\n",
    "viewer.layers[key].rendering='attenuated_mip'\n",
    "viewer.layers[key].contrast_limits=[.01,1]"
   ]
  },
  {
   "cell_type": "code",
   "execution_count": null,
   "id": "51",
   "metadata": {},
   "outputs": [],
   "source": [
    "# Plot cross sections and save some output for the figure \n",
    "from matplotlib.colors import ListedColormap\n",
    "\n",
    "cmap = mpl.cm.get_cmap('viridis')\n",
    "for i,name in enumerate(names):\n",
    "    print(name,i)\n",
    "    for j in range(len(imgs)):\n",
    "        img = imgs[j]\n",
    "        mgt = masks_gt[j]\n",
    "        msk = masks[i][j]\n",
    "        dt = flows[i][j][2]\n",
    "        bd = flows[i][j][4]\n",
    "        frgb = flows[i][j][0]\n",
    "        k = img.shape[0]//2 # middle slice \n",
    "        fig = plt.figure()\n",
    "        print(np.array(msk).shape,k)\n",
    "        mgtnc = ncolor.label(mgt[k])\n",
    "        plt.imshow(np.hstack(tuple(map(cmap,map(omnipose.utils.rescale,[img[k],dt[k], bd[k] ,\n",
    "                                                                        ncolor.label(msk[k]),\n",
    "                                                                        mgtnc])))\n",
    "                             +(frgb[k]/255,)))\n",
    "        \n",
    "        tifffile.imwrite(os.path.join(basedir,'slice_'+name+'_'+str(j)+'_frgb.tif'),frgb[k])\n",
    "        if i:\n",
    "            smap = sinebow(4)\n",
    "            smap = ListedColormap(list(smap.values()))\n",
    "            pic = smap(mgtnc)\n",
    "            pic[...,-1] = mgtnc>0\n",
    "            tifffile.imwrite(os.path.join(basedir,'slice_'+str(j)+'_gt.tif'),np.uint8(omnipose.utils.rescale(pic)*(2**8-1)))\n",
    "\n",
    "\n",
    "        plt.axis('off')\n",
    "        "
   ]
  },
  {
   "cell_type": "code",
   "execution_count": null,
   "id": "52",
   "metadata": {
    "jupyter": {
     "outputs_hidden": true
    },
    "tags": []
   },
   "outputs": [],
   "source": [
    "### Plot some ground truth "
   ]
  },
  {
   "cell_type": "code",
   "execution_count": null,
   "id": "53",
   "metadata": {},
   "outputs": [],
   "source": [
    "5"
   ]
  },
  {
   "cell_type": "code",
   "execution_count": null,
   "id": "54",
   "metadata": {},
   "outputs": [],
   "source": [
    "from mpl_toolkits import mplot3d\n",
    "\n",
    "\n",
    "fig = plt.figure()\n",
    "ax = plt.axes(projection='3d')\n",
    "ax.voxels(imgs[0])"
   ]
  },
  {
   "cell_type": "code",
   "execution_count": null,
   "id": "55",
   "metadata": {},
   "outputs": [],
   "source": [
    "# np.unique(sd)\n",
    "# plt.imshow(sd[-1])\n",
    "import ipyvolume as ipv\n",
    "# ipv.figure()\n",
    "# ipv.quickvolshow(sd)\n",
    "\n",
    "import ipyvolume.pylab as p3\n",
    "p3.figure()\n",
    "p3.style.use('light')\n",
    "p3.style.axes_off()\n",
    "p3.style.box_off()\n",
    "# vol = p3.volshow(np.log(T+1e-12))\n",
    "# p3.volshow(ncolor.label(seg))\n",
    "# points = np.nonzero(dt==1)\n",
    "# m = np.max(mask)-100\n",
    "# points = np.nonzero((mask>m-5)*(dt==1)*(mask<=m))\n",
    "# select = np.logical_or.reduce([mask == i for i in np.unique(mask[n])[1:]])\n",
    "# points = np.nonzero((dt==1)*select)\n",
    "\n",
    "\n",
    "# mg = np.meshgrid(*points,indexing='ij')\n",
    "# ax.quiver(*mg,*tuple(mu),length=0.1)\n",
    "# sub_mu = [mu[(i,)+points] for i in range(mu.shape[0])]\n",
    "# ax.quiver(*mg,*sub_mu,normalize=True)\n",
    "# sub_p =  [p[(i,)+points] for i in range(p.shape[0])]\n",
    "# p3.scatter(*sub_p, size=1, marker=\"sphere\",origin=np.mean(sub_p,axis=1))\n",
    "vol = p3.volshow(np.log(imgs[0]+.1),lighting=0)\n",
    "# ipv.quickvolshow(np.log(imgs[0]+1))\n",
    "# vol.ray_steps =20\n",
    "\n",
    "\n",
    "p3.show()"
   ]
  },
  {
   "cell_type": "code",
   "execution_count": null,
   "id": "56",
   "metadata": {
    "jupyter": {
     "outputs_hidden": true
    },
    "tags": []
   },
   "outputs": [],
   "source": [
    "import numpy as np\n",
    "import plotly.graph_objects as go\n",
    "\n",
    "# Generate nicely looking random 3D-field\n",
    "np.random.seed(0)\n",
    "vol = omnipose.utils.normalize99(imgs[0])\n",
    "shape = vol.shape\n",
    "print(shape,vol.min(),vol.max())\n",
    "X, Y, Z = np.mgrid[:shape[0], :shape[1], :shape[2]]\n",
    "vol = np.zeros((l, l, l))\n",
    "\n",
    "fig = go.Figure(data=go.Volume(\n",
    "    x=X.flatten(), y=Y.flatten(), z=Z.flatten(),\n",
    "    value=vol.flatten(),\n",
    "    # isomin=0.0,\n",
    "    # isomax=0.99,\n",
    "    opacity=0.9,\n",
    "    # surface_count=1,\n",
    "    opacityscale=[[-0.5, 1], [-0.2, 0], [0.2, 0], [0.5, 1]],\n",
    "    surface_count = 30\n",
    "    ))\n",
    "fig.update_layout(scene_xaxis_showticklabels=False,\n",
    "                  scene_yaxis_showticklabels=False,\n",
    "                  scene_zaxis_showticklabels=False)\n",
    "fig.show()"
   ]
  },
  {
   "cell_type": "code",
   "execution_count": null,
   "id": "57",
   "metadata": {
    "jupyter": {
     "outputs_hidden": true
    },
    "tags": []
   },
   "outputs": [],
   "source": [
    "import plotly.graph_objects as go\n",
    "import numpy as np\n",
    "X, Y, Z = np.mgrid[-8:8:40j, -8:8:40j, -8:8:40j]\n",
    "values = np.sin(X*Y*Z) / (X*Y*Z)\n",
    "\n",
    "fig = go.Figure(data=go.Volume(\n",
    "    x=X.flatten(),\n",
    "    y=Y.flatten(),\n",
    "    z=Z.flatten(),\n",
    "    value=values.flatten(),\n",
    "    isomin=0.1,\n",
    "    isomax=0.8,\n",
    "    opacity=0.1, # needs to be small to see through all surfaces\n",
    "    surface_count=17, # needs to be a large number for good volume rendering\n",
    "    ))\n",
    "fig.show()"
   ]
  },
  {
   "cell_type": "code",
   "execution_count": null,
   "id": "58",
   "metadata": {},
   "outputs": [],
   "source": [
    "from mayavi import mlab\n",
    "mlab.init_notebook()\n",
    "# x, y, z = np.ogrid[-10:10:20j, -10:10:20j, -10:10:20j]\n",
    "# s = np.sin(x*y*z)/(x*y*z)\n",
    "# mlab.pipeline.volume(mlab.pipeline.scalar_field(omnipose.utils.normalize99(s)),vmin=0, vmax=0.8)\n",
    "# mlab.contour3d(s)\n",
    "mlab.test_plot3d()"
   ]
  },
  {
   "cell_type": "code",
   "execution_count": null,
   "id": "59",
   "metadata": {},
   "outputs": [],
   "source": [
    "# plot some slices \n",
    "cmap = mpl.cm.get_cmap('viridis')\n",
    "for i,name in enumerate(names):\n",
    "    print(name,i)\n",
    "    for j in range(len(imgs)):\n",
    "        img = imgs[j]\n",
    "        mgt = masks_gt[j]\n",
    "        msk = masks[i][j]\n",
    "        dt = flows[i][j][2]\n",
    "        bd = flows[i][j][4]\n",
    "        frgb = flows[i][j][0]\n",
    "        k = img.shape[0]//2 # middle slice \n",
    "        fig = plt.figure()\n",
    "        print(np.array(msk).shape,k)\n",
    "        plt.imshow(np.hstack(tuple(map(cmap,map(omnipose.utils.rescale,[img[k],dt[k], bd[k] ,\n",
    "                                                                        ncolor.label(msk[k]),\n",
    "                                                                        ncolor.label(mgt[k])])))\n",
    "                             +(frgb[k]/255,)))\n",
    "        plt.axis('off')"
   ]
  },
  {
   "cell_type": "code",
   "execution_count": null,
   "id": "60",
   "metadata": {},
   "outputs": [],
   "source": []
  },
  {
   "cell_type": "code",
   "execution_count": null,
   "id": "61",
   "metadata": {},
   "outputs": [],
   "source": []
  },
  {
   "cell_type": "code",
   "execution_count": null,
   "id": "62",
   "metadata": {},
   "outputs": [],
   "source": [
    "basedir"
   ]
  },
  {
   "cell_type": "code",
   "execution_count": null,
   "id": "63",
   "metadata": {},
   "outputs": [],
   "source": [
    "# plt.imshow(msk)\n",
    "msk.dtype"
   ]
  },
  {
   "cell_type": "code",
   "execution_count": null,
   "id": "64",
   "metadata": {},
   "outputs": [],
   "source": [
    "im = tifffile.imread('/home/kcutler/DataDrive/plantseg/traintest/LateralRootPrimordia/export_good/test/Movie1_t00030_crop_gt.tif')"
   ]
  },
  {
   "cell_type": "code",
   "execution_count": null,
   "id": "65",
   "metadata": {},
   "outputs": [],
   "source": []
  },
  {
   "cell_type": "code",
   "execution_count": null,
   "id": "66",
   "metadata": {},
   "outputs": [],
   "source": []
  },
  {
   "cell_type": "code",
   "execution_count": null,
   "id": "67",
   "metadata": {},
   "outputs": [],
   "source": [
    "# viewer.axes.visible = False\n",
    "# viewer.overlays.interaction_box.show_handle=1\n",
    "viewer = napari.view_image(omnipose.utils.rescale(im), name='cells',gamma=0.2,attenuation=0.05,depiction='volume')\n",
    "viewer.dims.ndisplay = 3\n",
    "viewer.camera.center = [s//2 for s in im.shape]\n",
    "viewer.camera.zoom=.7\n",
    "viewer.camera.angles=(49.01724873267338, -59.486485045019705, 36.815397248657874)\n",
    "viewer.camera.perspective=0.0\n",
    "viewer.camera.interactive=True\n",
    "n_axes = 3\n",
    "vectors = np.zeros((n_axes, 2, 3), dtype=np.float32)\n",
    "x_px = np.array([1, 0, 0])\n",
    "y_py = np.array([0, 1, 0])\n",
    "z_pz = np.array([0, 0, 1])\n",
    "vectors[0, 1] = x_px\n",
    "vectors[1, 1] = y_py\n",
    "vectors[2, 1] = z_pz\n",
    "for k in range(im.ndim):\n",
    "    viewer.add_vectors(vectors[k], name='ax'+str(k), edge_width=1,edge_color='k',blending='translucent_no_depth', length=im.shape[k])"
   ]
  },
  {
   "cell_type": "code",
   "execution_count": null,
   "id": "68",
   "metadata": {},
   "outputs": [],
   "source": [
    "viewer.layers[0].contrast_limits=[.002,1]\n"
   ]
  },
  {
   "cell_type": "code",
   "execution_count": null,
   "id": "69",
   "metadata": {},
   "outputs": [],
   "source": [
    "\n",
    "# colors = np.linspace(\n",
    "#     start=[1, 1, 1, 0],\n",
    "#     stop=[0, 0, 0, 1],\n",
    "#     num=10,\n",
    "#     endpoint=True\n",
    "# )\n",
    "cmap = plt.get_cmap(name='viridis')\n",
    "x = np.linspace(0,1,100)\n",
    "colors=cmap(1-x)\n",
    "colors[...,-1] = x\n",
    "new_colormap = {\n",
    "    'colors': colors,\n",
    "    'name': 'custom',\n",
    "    'interpolation': 'linear'\n",
    "}\n",
    "viewer.layers[0].colormap = new_colormap\n",
    "viewer.layers[0].rendering='attenuated_mip'\n",
    "viewer.layers[0].contrast_limits=[.01,1]\n",
    "\n",
    "# k = 0\n",
    "# im = imgs[k]"
   ]
  },
  {
   "cell_type": "code",
   "execution_count": null,
   "id": "70",
   "metadata": {},
   "outputs": [],
   "source": []
  },
  {
   "cell_type": "code",
   "execution_count": null,
   "id": "71",
   "metadata": {},
   "outputs": [],
   "source": [
    "img = viewer.screenshot(size=(2000,2000),scale=1,canvas_only=True,flash=False)\n",
    "from cellpose_omni import io\n",
    "basedir = '/home/kcutler/DataDrive/omnipose_paper/Figure 7'\n",
    "io.check_dir(basedir)\n",
    "io.imsave(os.path.join(basedir,'3D.tiff'),img)"
   ]
  },
  {
   "cell_type": "code",
   "execution_count": null,
   "id": "72",
   "metadata": {},
   "outputs": [],
   "source": [
    "fig = plt.figure(figsize=(20,20))\n",
    "plt.rcParams['figure.dpi'] = 300\n",
    "plt.imshow(img)\n",
    "plt.axis('off')"
   ]
  },
  {
   "cell_type": "code",
   "execution_count": null,
   "id": "73",
   "metadata": {},
   "outputs": [],
   "source": [
    "viewer.__dict__"
   ]
  },
  {
   "cell_type": "code",
   "execution_count": null,
   "id": "74",
   "metadata": {},
   "outputs": [],
   "source": [
    "len(masks_gt)"
   ]
  },
  {
   "cell_type": "code",
   "execution_count": null,
   "id": "75",
   "metadata": {},
   "outputs": [],
   "source": []
  },
  {
   "cell_type": "code",
   "execution_count": null,
   "id": "76",
   "metadata": {},
   "outputs": [],
   "source": []
  },
  {
   "cell_type": "code",
   "execution_count": null,
   "id": "77",
   "metadata": {},
   "outputs": [],
   "source": []
  },
  {
   "cell_type": "code",
   "execution_count": null,
   "id": "78",
   "metadata": {},
   "outputs": [],
   "source": [
    "cmap = mpl.cm.get_cmap('viridis')\n",
    "\n",
    "for j in range(len(imgs)):\n",
    "    img = imgs[j]\n",
    "    msk = masks[j]\n",
    "    dt = flows[j][2]\n",
    "    bd = flows[j][4]\n",
    "    frgb = flows[j][0]\n",
    "    k = img.shape[0]//2 # middle slice \n",
    "    fig = plt.figure()\n",
    "    plt.imshow(np.hstack(tuple(map(cmap,map(omnipose.utils.rescale,[img[k],dt[k],bd[k],\n",
    "                                                                    ncolor.label(msk[k]),\n",
    "                                                                    ncolor.label(masks_gt[j][k])])))\n",
    "                         +(frgb[k]/255,)))\n",
    "    plt.axis('off')"
   ]
  },
  {
   "cell_type": "code",
   "execution_count": null,
   "id": "79",
   "metadata": {},
   "outputs": [],
   "source": [
    "# now quanititative comparison \n",
    "\n",
    "from stardist import matching\n",
    "a = 0.5\n",
    "b = 1.0\n",
    "thresh =np.arange(a,b,(b-a)/100)\n",
    "met =[matching.matching(mgt,m, thresh=thresh) for mgt,m in zip(masks_gt, masks)]\n",
    "a = np.array([[met[k][i].accuracy for i in range(len(thresh))] for k in range(len(met))]).T\n",
    "plt.plot(thresh,a)#+['masks_cp'])\n",
    "np.save(os.path.join(basedir,'omnipose_3D_plants_individual'),a)\n",
    "a = np.mean(a,axis=1)\n",
    "np.save(os.path.join(basedir,'omnipose_3D_plants'),a)\n"
   ]
  },
  {
   "cell_type": "code",
   "execution_count": null,
   "id": "80",
   "metadata": {},
   "outputs": [],
   "source": [
    "names = ['cellpose','omnipose']\n",
    "JI = [np.array(np.load(os.path.join(basedir,name+'_3D_plants_individual.npy'))) for name in names]\n",
    "JI_mean = [np.array(np.load(os.path.join(basedir,name+'_3D_plants.npy'))) for name in names]"
   ]
  },
  {
   "cell_type": "code",
   "execution_count": null,
   "id": "81",
   "metadata": {},
   "outputs": [],
   "source": [
    "JI[0].shape"
   ]
  },
  {
   "cell_type": "code",
   "execution_count": null,
   "id": "82",
   "metadata": {},
   "outputs": [],
   "source": [
    "plt.figure()\n",
    "plt.plot(thresh,JI[0],label=names[0])#+['masks_cp'])\n",
    "plt.plot(thresh,JI[1],label=names[1])#+['masks_cp'])\n",
    "plt.legend()"
   ]
  },
  {
   "cell_type": "code",
   "execution_count": null,
   "id": "83",
   "metadata": {},
   "outputs": [],
   "source": [
    "masks_all,"
   ]
  },
  {
   "cell_type": "code",
   "execution_count": null,
   "id": "84",
   "metadata": {},
   "outputs": [],
   "source": [
    "plt.imshow(masks[0])"
   ]
  },
  {
   "cell_type": "code",
   "execution_count": null,
   "id": "85",
   "metadata": {},
   "outputs": [],
   "source": [
    "# d = omnipose.core.diameters(masks_gt)\n",
    "# d\n",
    "image_names = io.get_image_files(savedir[1],extensions=['h5'])\n",
    "filename = image_names[10]\n",
    "with h5py.File(filename, \"r\") as f:\n",
    "        # List all groups\n",
    "        print(\"Keys: %s\" % f.keys())\n",
    "        masks = np.array(f['label'])\n",
    "        print(masks.min())\n",
    "        masks = omnipose.utils.format_labels(masks)\n",
    "        name = getname(filename)\n",
    "        print(name)\n",
    "        fastremap.renumber(masks,in_place=True)\n",
    "        labels = fastremap.refit(masks)\n",
    "        img = np.array(f['raw'])"
   ]
  },
  {
   "cell_type": "code",
   "execution_count": null,
   "id": "86",
   "metadata": {
    "tags": []
   },
   "outputs": [],
   "source": [
    "img.shape"
   ]
  },
  {
   "cell_type": "code",
   "execution_count": null,
   "id": "87",
   "metadata": {
    "tags": []
   },
   "outputs": [],
   "source": [
    "import edt\n",
    "dt = edt.edt(labels)"
   ]
  },
  {
   "cell_type": "code",
   "execution_count": null,
   "id": "88",
   "metadata": {
    "tags": []
   },
   "outputs": [],
   "source": [
    "# np.max(masks),np.max(labels),np.min(masks),np.min(labels),filename\n",
    "omnipose.core.diameters(masks,dt)"
   ]
  },
  {
   "cell_type": "code",
   "execution_count": null,
   "id": "89",
   "metadata": {
    "tags": []
   },
   "outputs": [],
   "source": [
    "from omnipose.utils import rescale \n",
    "k = 100\n",
    "plt.imshow(np.hstack(tuple(map(rescale,(img[:,k],ncolor.label(labels[:,k]),dt[:,k])))))\n",
    "# plt.imshow(dt[:,500])"
   ]
  },
  {
   "cell_type": "code",
   "execution_count": null,
   "id": "90",
   "metadata": {
    "tags": []
   },
   "outputs": [],
   "source": [
    "6"
   ]
  },
  {
   "cell_type": "code",
   "execution_count": null,
   "id": "91",
   "metadata": {
    "tags": []
   },
   "outputs": [],
   "source": []
  },
  {
   "cell_type": "code",
   "execution_count": null,
   "id": "92",
   "metadata": {
    "tags": []
   },
   "outputs": [],
   "source": [
    "viewer = napari.view_image(img, name='cells')\n",
    "viewer.add_labels(labels, name='labels')"
   ]
  },
  {
   "cell_type": "code",
   "execution_count": null,
   "id": "93",
   "metadata": {},
   "outputs": [],
   "source": [
    "# len(flows)\n",
    "a,b = map(list,zip(*[[l*2,l/2] for l in range(4)]))\n",
    "a,b"
   ]
  },
  {
   "cell_type": "code",
   "execution_count": null,
   "id": "94",
   "metadata": {},
   "outputs": [],
   "source": [
    "from omnipose.core import diameters\n",
    "diameters(masks[slc])"
   ]
  },
  {
   "cell_type": "code",
   "execution_count": null,
   "id": "95",
   "metadata": {},
   "outputs": [],
   "source": [
    "a = np.ones([10,10])\n",
    "pad = 4\n",
    "apad = np.pad(a,pad)\n",
    "unpad = tuple([slice(pad,-pad) if pad else slice(None,None)]*a.ndim)\n",
    "apad[unpad].shape,a.shape,apad.shape"
   ]
  },
  {
   "cell_type": "code",
   "execution_count": null,
   "id": "96",
   "metadata": {},
   "outputs": [],
   "source": [
    "np.pad(a,None)"
   ]
  },
  {
   "cell_type": "code",
   "execution_count": null,
   "id": "97",
   "metadata": {},
   "outputs": [],
   "source": [
    "import fastremap\n",
    "m,_ = fastremap.renumber(masks,in_place=False)\n",
    "np.max(m)"
   ]
  },
  {
   "cell_type": "code",
   "execution_count": null,
   "id": "98",
   "metadata": {},
   "outputs": [],
   "source": [
    "import edt\n",
    "dt = edt.edt(m[slc][50])\n",
    "dt"
   ]
  },
  {
   "cell_type": "code",
   "execution_count": null,
   "id": "99",
   "metadata": {},
   "outputs": [],
   "source": [
    "im.shape"
   ]
  },
  {
   "cell_type": "code",
   "execution_count": null,
   "id": "100",
   "metadata": {},
   "outputs": [],
   "source": [
    "# modeldir = '/home/kcutler/DataDrive/3D_BBBC/BBBC027/train/models/cellpose_residual_on_style_on_concatenation_off_omni_train_2022_05_03_18_58_51.851134_epoch_301'\n",
    "import tifffile\n",
    "im = tifffile.imread('/home/kcutler/DataDrive/3D_BBBC/BBBC027/test/0000.tif')"
   ]
  },
  {
   "cell_type": "code",
   "execution_count": null,
   "id": "101",
   "metadata": {},
   "outputs": [],
   "source": [
    "masks_gt = tifffile.imread('/home/kcutler/DataDrive/3D_BBBC/BBBC027/test/0000_masks.tif')\n",
    "# d = omnipose.core.diameters(masks_gt)\n",
    "# d\n",
    "im.shape"
   ]
  },
  {
   "cell_type": "code",
   "execution_count": null,
   "id": "102",
   "metadata": {},
   "outputs": [],
   "source": [
    "modeldir = '/home/kcutler/DataDrive/3D_BBBC/BBBC027/train/models/cellpose_residual_on_style_on_concatenation_off_omni_train_2022_05_03_18_58_51.851134_epoch_101'\n",
    "\n",
    "modeldir = '/home/kcutler/DataDrive/3D_BBBC/BBBC027/train/models/cellpose_residual_on_style_on_concatenation_off_omni_train_2022_05_03_22_16_13.356647_epoch_2601'\n",
    "\n",
    "dim = 3\n",
    "nclasses = dim+2\n",
    "nchan = 1\n",
    "omni = 1\n",
    "rescale = False\n",
    "diam_mean = 0\n",
    "from cellpose_omni import models, core\n",
    "use_GPU = core.use_gpu()\n",
    "\n",
    "# print('>>> GPU activated? %d'%use_GPU)\n",
    "# use_GPU = 0 # uh oh, 3D models not working for CPU\n",
    "# use_GPU = 0\n",
    "model = models.CellposeModel(gpu=use_GPU, pretrained_model=modeldir, net_avg=False, \n",
    "                             diam_mean=diam_mean, nclasses=nclasses, dim=dim, nchan=nchan)"
   ]
  },
  {
   "cell_type": "code",
   "execution_count": null,
   "id": "103",
   "metadata": {},
   "outputs": [],
   "source": [
    "mask_threshold = -5 ##############\n",
    "diam_threshold = 12\n",
    "net_avg = 0\n",
    "cluster = 1\n",
    "verbose = 0 #####\n",
    "\n",
    "tile = 0\n",
    "chans = [0,0]\n",
    "chans = None\n",
    "compute_masks = 1\n",
    "slc_crop = slice(None, -1, None)\n",
    "# slc_crop = slice(100, 120, None)\n",
    "# slc_crop = slice(13, 53, None) # 733\n",
    "# slc_crop = slice(50, 100, None) # 704\n",
    "# slc_crop = slice(15, 52, None) # 707\n",
    "# slc_crop = slice(30, 70, None) # 712\n",
    "# slc_crop = (Ellipsis,)+tuple([slice(0,129)]*2)\n",
    "# slc_crop = (Ellipsis,)+tuple([slice(0,400)]*2)\n",
    "\n",
    "resample=False\n",
    "# rescale = .5 #None\n",
    "rescale=None\n",
    "\n",
    "imcrop = im[slc_crop]\n",
    "# pad = 30\n",
    "# imcrop = np.pad(imcrop,pad,mode='reflect')\n",
    "# imcrop = im[100:120]\n",
    "# imcrop = im.copy()\n",
    "# import torch\n",
    "#TILING not working in 3D, should fix that \n",
    "masks, flows, styles = model.eval(imcrop,channels = chans,rescale=rescale,mask_threshold=mask_threshold,net_avg=net_avg,\n",
    "                                  transparency=True,flow_threshold=0.,omni=omni,resample=resample,verbose=verbose,\n",
    "                                  diam_threshold=diam_threshold,cluster=cluster,tile=1,\n",
    "                                  compute_masks=compute_masks,batch_size=2)\n",
    "#     else:"
   ]
  },
  {
   "cell_type": "code",
   "execution_count": null,
   "id": "104",
   "metadata": {},
   "outputs": [],
   "source": [
    "for i,a in enumerate(['a','b']):\n",
    "    print(i,a)"
   ]
  },
  {
   "cell_type": "code",
   "execution_count": null,
   "id": "105",
   "metadata": {},
   "outputs": [],
   "source": [
    "k = 50\n",
    "dt = flows[2]\n",
    "bd = flows[4]\n",
    "cmap = mpl.cm.get_cmap('viridis')\n",
    "\n",
    "plt.imshow(np.hstack(tuple(map(cmap,map(omnipose.utils.rescale,[imcrop[k],dt[k],bd[k],masks[k]])))+(flows[0][k]/255,)))"
   ]
  },
  {
   "cell_type": "code",
   "execution_count": null,
   "id": "106",
   "metadata": {},
   "outputs": [],
   "source": [
    "from stardist import matching\n",
    "a = 0.5\n",
    "b = 1.0\n",
    "thresh =np.arange(a,b,(b-a)/100)\n",
    "met = [[]]*1\n",
    "met[0] = matching.matching(masks_gt[slc_crop], newmasks, thresh=thresh)\n",
    "# gotta make sure precision is jaccard index!!!!\n",
    "plt.plot(thresh,np.array([[met[k][i].accuracy for i in range(len(thresh))] for k in range(len(met))]).T)#+['masks_cp'])\n",
    "# plt.legend()"
   ]
  },
  {
   "cell_type": "code",
   "execution_count": null,
   "id": "107",
   "metadata": {},
   "outputs": [],
   "source": [
    "imgi = im.copy()[np.newaxis]"
   ]
  },
  {
   "cell_type": "code",
   "execution_count": null,
   "id": "108",
   "metadata": {},
   "outputs": [],
   "source": [
    "tile_overlap = 0.1\n",
    "bsize = 224\n",
    "\n",
    "nchan = imgi.shape[0]\n",
    "shape = imgi.shape[1:]\n",
    "dim = len(shape)\n",
    "tile_overlap = min(0.5, max(0.05, tile_overlap))\n",
    "# bsizeY, bsizeX = min(bsize, Ly), min(bsize, Lx)\n",
    "# B = [np.int32(min(b,s)) for s,b in zip(im.shape,bsize)] if bzise variable\n",
    "bbox = tuple([np.int32(min(bsize,s)) for s in shape])\n",
    "\n",
    "# tiles overlap by 10% tile size\n",
    "ntyx = [1 if s<=bsize else int(np.ceil((1.+2*tile_overlap) * (s / bsize))) for s in shape]\n",
    "start = [np.linspace(0, s-b, n).astype(int) for s,b,n in zip(shape,bbox,ntyx)]\n",
    "\n",
    "sub = [[] for n in range(dim)]\n",
    "# IMG = np.zeros((len(ystart), len(xstart), nchan,  bsizeY, bsizeX), np.float32)\n",
    "IMG = np.zeros(tuple([len(s) for s in start])+(nchan,)+bbox, np.float32)\n",
    "\n",
    "# for j in range(len(ystart)):\n",
    "#     for i in range(len(xstart)):\n",
    "#         ysub.append([ystart[j], ystart[j]+bsizeY])\n",
    "#         xsub.append([xstart[i], xstart[i]+bsizeX])\n",
    "#         IMG[j, i] = imgi[:, ysub[-1][0]:ysub[-1][1],  xsub[-1][0]:xsub[-1][1]]\n",
    "IMG.shape, bbox,ntyx, np.diff(start[1]),"
   ]
  },
  {
   "cell_type": "code",
   "execution_count": null,
   "id": "109",
   "metadata": {},
   "outputs": [],
   "source": [
    "int(np.ceil((1.+2*tile_overlap) * (shape[1] / bsize)))"
   ]
  },
  {
   "cell_type": "code",
   "execution_count": null,
   "id": "110",
   "metadata": {},
   "outputs": [],
   "source": [
    "start"
   ]
  },
  {
   "cell_type": "code",
   "execution_count": null,
   "id": "111",
   "metadata": {},
   "outputs": [],
   "source": [
    "import itertools\n",
    "intervals = [[slice(si,si+bsize) for si in s] for s in start]\n",
    "# intervals = []\n",
    "# for s in start:\n",
    "#     intervals.append([slice(si,si+bsize) for si in s])\n",
    "#     # if len(s)>1:\n",
    "#     #     intervals.append([slice(si,si+bsize) for si in s])\n",
    "#     # else:\n",
    "    #     intervals.append([slice(None)])\n",
    "subs = list(itertools.product(*intervals))\n",
    "len(subs)"
   ]
  },
  {
   "cell_type": "code",
   "execution_count": null,
   "id": "112",
   "metadata": {},
   "outputs": [],
   "source": [
    "I = []\n",
    "for slc in subs:\n",
    "    imcrop = imgi[(Ellipsis,)+slc]\n",
    "    print(imcrop.shape)\n",
    "    I.append(imcrop)"
   ]
  },
  {
   "cell_type": "code",
   "execution_count": null,
   "id": "113",
   "metadata": {},
   "outputs": [],
   "source": [
    "I2 = np.stack(I)\n",
    "I2.shape"
   ]
  },
  {
   "cell_type": "code",
   "execution_count": null,
   "id": "114",
   "metadata": {},
   "outputs": [],
   "source": [
    "# viewer = napari.view_image(I[0], name='cells')\n",
    "I[0].shape\n"
   ]
  },
  {
   "cell_type": "code",
   "execution_count": null,
   "id": "115",
   "metadata": {},
   "outputs": [],
   "source": [
    "from cellpose_omni.transforms import make_tiles\n",
    "IMG, ysub, xsub, Ly, Lx = make_tiles(im[0][np.newaxis])"
   ]
  },
  {
   "cell_type": "code",
   "execution_count": null,
   "id": "116",
   "metadata": {},
   "outputs": [],
   "source": [
    "IMG.shape,Ly,Lx,ysub"
   ]
  },
  {
   "cell_type": "code",
   "execution_count": null,
   "id": "117",
   "metadata": {
    "tags": []
   },
   "outputs": [],
   "source": [
    "viewer = napari.view_image(imcrop, name='cells')\n",
    "viewer.add_labels(masks, name='labels')"
   ]
  },
  {
   "cell_type": "code",
   "execution_count": null,
   "id": "118",
   "metadata": {},
   "outputs": [],
   "source": [
    "# viewer.add_labels(masks_gt[slc_crop], name='labels_gt')\n",
    "viewer.add_image(bd, name='bd')\n",
    "viewer.add_image(dt, name='dt')"
   ]
  },
  {
   "cell_type": "code",
   "execution_count": null,
   "id": "119",
   "metadata": {},
   "outputs": [],
   "source": [
    "viewer.add_labels(ncolor.label(masks_gt[slc_crop]), name='labels_gt')\n"
   ]
  },
  {
   "cell_type": "code",
   "execution_count": null,
   "id": "120",
   "metadata": {},
   "outputs": [],
   "source": [
    "viewer.add_image(flows[0], name='flows')"
   ]
  },
  {
   "cell_type": "code",
   "execution_count": null,
   "id": "121",
   "metadata": {},
   "outputs": [],
   "source": [
    "mu = flows[1]\n",
    "dt = flows[2]\n",
    "p = flows[3]\n",
    "bd = flows[4]\n",
    "hdbscan = 1\n",
    "cluster = 0\n",
    "newmasks,p,_,lab= omnipose.core.compute_masks(mu,dt,bd=bd,mask_threshold=mask_threshold,\n",
    "                                           use_gpu=True,verbose=True,cluster=cluster, \n",
    "                                           flow_threshold=0., dim=3, hdbscan=hdbscan, \n",
    "                                              debug=1, eps=3, min_size=30, nclasses=4)"
   ]
  },
  {
   "cell_type": "code",
   "execution_count": null,
   "id": "122",
   "metadata": {},
   "outputs": [],
   "source": [
    "alg = ['','H']\n",
    "mnc = ncolor.label(newmasks)\n",
    "viewer.add_labels(mnc,name='{}DBSCAN'.format(alg[hdbscan]),color=sinebow(mnc.max()))\n",
    "# 17.91925573348999 for hdbscan, 10.16240119934082 for dbscan ; then 25 vs 9 later "
   ]
  },
  {
   "cell_type": "code",
   "execution_count": null,
   "id": "123",
   "metadata": {},
   "outputs": [],
   "source": [
    "np.unique(newmasks)\n",
    "color = sinebow(newmasks.max())\n",
    "# [color[l]]\n",
    "selection = newmasks>0\n",
    "sub_p = [p[i].ravel()[selection.ravel()] for i in range(p.shape[0])]\n",
    "# sub_col = [color[l] for l in lab[selection.ravel()]]\n",
    "sub_col = [color[l] for l in mnc[mnc>0]]\n",
    "data = np.stack(sub_p,axis=-1)\n",
    "viewer.add_points(np.round(data),size=1,symbol='disc',face_color=sub_col,edge_color=sub_col)"
   ]
  },
  {
   "cell_type": "code",
   "execution_count": null,
   "id": "124",
   "metadata": {},
   "outputs": [],
   "source": []
  },
  {
   "cell_type": "code",
   "execution_count": null,
   "id": "125",
   "metadata": {},
   "outputs": [],
   "source": [
    "\n"
   ]
  },
  {
   "cell_type": "code",
   "execution_count": null,
   "id": "126",
   "metadata": {},
   "outputs": [],
   "source": []
  },
  {
   "cell_type": "code",
   "execution_count": null,
   "id": "127",
   "metadata": {},
   "outputs": [],
   "source": [
    "import hdbscan\n",
    "clusterer = hdbscan.HDBSCAN(min_cluster_size=400,min_samples=3)\n",
    "labels = clusterer.fit_predict(np.array(sub_p).T)\n",
    "len(np.unique(labels))"
   ]
  },
  {
   "cell_type": "code",
   "execution_count": null,
   "id": "128",
   "metadata": {},
   "outputs": [],
   "source": [
    "clusterer = hdbscan.HDBSCAN(cluster_selection_epsilon=2**0.5,min_samples=3, allow_single_cluster=True)\n",
    "clusterer.fit(np.stack(sub_p,axis=1))"
   ]
  },
  {
   "cell_type": "code",
   "execution_count": null,
   "id": "129",
   "metadata": {},
   "outputs": [],
   "source": [
    "np.unique(clusterer.labels_)\n",
    "# np.sqrt(2)"
   ]
  },
  {
   "cell_type": "code",
   "execution_count": null,
   "id": "130",
   "metadata": {
    "jupyter": {
     "outputs_hidden": true
    },
    "tags": []
   },
   "outputs": [],
   "source": [
    "clusterer.condensed_tree_.plot()"
   ]
  },
  {
   "cell_type": "code",
   "execution_count": null,
   "id": "131",
   "metadata": {},
   "outputs": [],
   "source": [
    "from sklearn.cluster import DBSCAN\n",
    "eps=1.33\n",
    "db = DBSCAN(eps=eps, min_samples=5, n_jobs=-1).fit(np.array(sub_p).T)"
   ]
  },
  {
   "cell_type": "code",
   "execution_count": null,
   "id": "132",
   "metadata": {},
   "outputs": [],
   "source": [
    "len(np.unique(db.labels_))"
   ]
  },
  {
   "cell_type": "code",
   "execution_count": null,
   "id": "133",
   "metadata": {},
   "outputs": [],
   "source": [
    "# np.prod(p.shape)\n",
    "# p[0].ravel().shape,(points.ravel()).shape\n",
    "%timeit p[0].ravel()[points.ravel()]\n",
    "# p[0][points].ravel()"
   ]
  },
  {
   "cell_type": "code",
   "execution_count": null,
   "id": "134",
   "metadata": {},
   "outputs": [],
   "source": [
    "%timeit p[0][points].ravel()"
   ]
  },
  {
   "cell_type": "code",
   "execution_count": null,
   "id": "135",
   "metadata": {},
   "outputs": [],
   "source": [
    "# import datashader as ds, pandas as pd, colorcet\n",
    "# !pip install vaex-jupyter\n",
    "import vaex\n",
    "# df = vaex.from_arrays(z=p[(0,+)],y=p[1],x=p[2])"
   ]
  },
  {
   "cell_type": "code",
   "execution_count": null,
   "id": "136",
   "metadata": {},
   "outputs": [],
   "source": [
    "axes = [i for i in 'zyx']\n",
    "points = bd>0\n",
    "pdict = dict(zip(axes, [p[i].ravel()[points.ravel()] for i in range(p.shape[0])]))"
   ]
  },
  {
   "cell_type": "code",
   "execution_count": null,
   "id": "137",
   "metadata": {},
   "outputs": [],
   "source": [
    "df = vaex.from_dict(pdict)\n",
    "df"
   ]
  },
  {
   "cell_type": "code",
   "execution_count": null,
   "id": "138",
   "metadata": {},
   "outputs": [],
   "source": [
    "import vaex.jupyter.model as vjm\n",
    "await vaex.jupyter.gather()"
   ]
  },
  {
   "cell_type": "code",
   "execution_count": null,
   "id": "139",
   "metadata": {},
   "outputs": [],
   "source": [
    "# df.viz.scatter(df.x, df.y, selection=df.z==40, c=\"red\", alpha=0.5, s=4)\n",
    "%matplotlib inline\n",
    "plt.figure()\n",
    "df.viz.heatmap([[\"x\", \"y\"], [\"x\", \"z\"], [\"y\", \"z\"]], title=\"Face on and edge on\", figsize=(8, 4), limits='100%')"
   ]
  },
  {
   "cell_type": "code",
   "execution_count": null,
   "id": "140",
   "metadata": {},
   "outputs": [],
   "source": [
    "df.viz.heatmap(\"z\", \"y\", z=\"FeH:-3,-1,8\",\n",
    "               visual=dict(row=\"z\"),\n",
    "               figsize=(12, 8),\n",
    "               f=\"log\",\n",
    "               wrap_columns=3,\n",
    "               limits='99%');\n"
   ]
  },
  {
   "cell_type": "code",
   "execution_count": null,
   "id": "141",
   "metadata": {},
   "outputs": [],
   "source": [
    "omni = 1\n",
    "masks, dists, T, mu = omnipose.core.masks_to_flows(mask,use_gpu=1,omni=omni,dim=mask.ndim)"
   ]
  },
  {
   "cell_type": "code",
   "execution_count": null,
   "id": "142",
   "metadata": {},
   "outputs": [],
   "source": [
    "from omnipose.core import divergence\n",
    "from omnipose.utils import rescale\n",
    "from omnipose import utils\n",
    "from cellpose_omni import plot\n",
    "from scipy.ndimage import gaussian_filter\n",
    "mu_f = gaussian_filter(mu,sigma=.5)"
   ]
  },
  {
   "cell_type": "code",
   "execution_count": null,
   "id": "143",
   "metadata": {},
   "outputs": [],
   "source": [
    "%matplotlib inline\n",
    "fig = plt.figure(figsize=[20]*2)\n",
    "\n",
    "if mask.ndim==2:\n",
    "    plt.imshow(plot.dx_to_circ(mu))\n",
    "else:\n",
    "    # plot flow and dist slices \n",
    "    from omnipose.utils import rescale\n",
    "    d = mu.shape[0]\n",
    "    c = np.array([1]*2+[0]*(d-2))\n",
    "    # c = np.arange(d)\n",
    "    def cyclic_perm(a):\n",
    "        n = len(a)\n",
    "        b = [[a[i - j] for i in range(n)] for j in range(n)]\n",
    "        return b\n",
    "    slices = []\n",
    "    idx = np.arange(d)\n",
    "    cmap = mpl.cm.get_cmap('magma')\n",
    "    # pic = cmap(np.sqrt(heat))\n",
    "    # pic[:,:,-1] = masks>0\n",
    "    for inds in cyclic_perm(c):\n",
    "        slc = tuple([slice(-1) if i else mu.shape[k+1]//2 for i,k in zip(inds,idx)])\n",
    "        flow = rescale(plot.dx_to_circ(mu_f[np.where(inds)+slc],transparency=1))\n",
    "        # dist = cmap(rescale(T)[slc])\n",
    "        vals = rescale(np.log(T+1)[slc]) if omni else rescale(np.log(T+1e-5)[slc])\n",
    "        dist = cmap(vals)\n",
    "        dist[:,:,-1]=vals\n",
    "        \n",
    "        \n",
    "        vals = utils.normalize99(divergence(mu_f))[slc]\n",
    "        div = cmap(vals)\n",
    "        div[:,:,-1]=vals\n",
    "        div = utils.normalize99(div)\n",
    "        \n",
    "        \n",
    "        msk = rescale(np.stack([mask[slc]]*4,axis=-1))>0\n",
    "        dist[:,:,-1]=mask[slc]>0\n",
    "        fig = plt.figure(figsize=[80]*2)\n",
    "        plt.imshow(np.hstack((msk,flow,dist,div)),interpolation='none')\n",
    "        plt.axis('off')\n",
    "        plt.show()"
   ]
  },
  {
   "cell_type": "code",
   "execution_count": null,
   "id": "144",
   "metadata": {},
   "outputs": [],
   "source": [
    "from cellpose_omni import transforms\n",
    "tyx = (50,)*3\n",
    "rs = None\n",
    "omni = 1\n",
    "#[imgs[k][np.newaxis,:,:] if imgs[k].ndim==2 else imgs[k] for k in n], [flows[k] for k in n]\n",
    "img,lbl,sc = transforms.random_rotate_and_resize([imcrop[np.newaxis]],[masks],\n",
    "                                                 tyx=tyx,\n",
    "                                                 omni=omni,\n",
    "                                                 rescale=rs,\n",
    "                                                 dim=masks.ndim)\n"
   ]
  },
  {
   "cell_type": "code",
   "execution_count": null,
   "id": "145",
   "metadata": {},
   "outputs": [],
   "source": [
    "\n",
    "from omnipose.utils import rescale\n",
    "from omnipose.core import sigmoid\n",
    "\n",
    "j = 0\n",
    "img0 = img[j].squeeze()\n",
    "mask0 = lbl[j][0]\n",
    "bin0 = lbl[j][1]\n",
    "bd0 = lbl[j][2]\n",
    "dist0 = lbl[j][3]\n",
    "weight0 = lbl[j][4]\n",
    "mu0 = lbl[j][5:]\n",
    "\n",
    "d = mu0.shape[0]\n",
    "c = np.array([1]*2+[0]*(d-2))\n",
    "# c = np.arange(d)\n",
    "def cyclic_perm(a):\n",
    "    n = len(a)\n",
    "    b = [[a[i - j] for i in range(n)] for j in range(n)]\n",
    "    return b\n",
    "slices = []\n",
    "idx = np.arange(d)\n",
    "cmap = mpl.cm.get_cmap('magma')\n",
    "\n",
    "for inds in cyclic_perm(c):\n",
    "    \n",
    "    slc = tuple([slice(-1) if i else mu0.shape[k+1]//2 for i,k in zip(inds,idx)])\n",
    "    flow = rescale(plot.dx_to_circ(mu0[np.where(inds)+slc],transparency=1))\n",
    "    # dist = cmap(rescale(T)[slc])\n",
    "    vals = rescale(dist0)[slc] if omni else rescale(np.log(dist0+1e-5)[slc])\n",
    "    dist = cmap(vals)\n",
    "    dist[:,:,-1]=vals\n",
    "\n",
    "\n",
    "    vals = utils.normalize99(divergence(mu0))[slc]\n",
    "    div = cmap(vals)\n",
    "    div[:,:,-1]=vals\n",
    "    div = utils.normalize99(div)\n",
    "    \n",
    "    bin_ = cmap(bin0[slc])\n",
    "    bd = cmap(bd0[slc])\n",
    "    weight = cmap(rescale(weight0)[slc])\n",
    "\n",
    "    msk = cmap(rescale(ncolor.label(mask0[slc])))\n",
    "    fig = plt.figure(figsize=[80]*2)\n",
    "    plt.imshow(np.hstack((msk,bin_,flow,dist,bd,weight,div)),interpolation='none')\n",
    "    plt.axis('off')\n",
    "    plt.show()"
   ]
  },
  {
   "cell_type": "code",
   "execution_count": null,
   "id": "146",
   "metadata": {},
   "outputs": [],
   "source": [
    "ncolor.label(mask0).shape"
   ]
  },
  {
   "cell_type": "code",
   "execution_count": null,
   "id": "147",
   "metadata": {},
   "outputs": [],
   "source": [
    "plt.imshow(bd)"
   ]
  },
  {
   "cell_type": "code",
   "execution_count": null,
   "id": "148",
   "metadata": {},
   "outputs": [],
   "source": [
    "lbl.shape"
   ]
  },
  {
   "cell_type": "code",
   "execution_count": null,
   "id": "149",
   "metadata": {},
   "outputs": [],
   "source": [
    "mgood = tifffile.imread('/home/kcutler/DataDrive/plantseg/traintest/LateralRootPrimordia/export_good/test/Movie1_t00030_crop_gt_masks.tif')"
   ]
  },
  {
   "cell_type": "code",
   "execution_count": null,
   "id": "150",
   "metadata": {},
   "outputs": [],
   "source": [
    "import fastremap\n",
    "len(fastremap.unique(mgood))"
   ]
  },
  {
   "cell_type": "code",
   "execution_count": null,
   "id": "151",
   "metadata": {},
   "outputs": [],
   "source": []
  }
 ],
 "metadata": {
  "kernelspec": {
   "display_name": "Python 3 (ipykernel)",
   "language": "python",
   "name": "python3"
  },
  "language_info": {
   "codemirror_mode": {
    "name": "ipython",
    "version": 3
   },
   "file_extension": ".py",
   "mimetype": "text/x-python",
   "name": "python",
   "nbconvert_exporter": "python",
   "pygments_lexer": "ipython3",
   "version": "3.10.9"
  },
  "vscode": {
   "interpreter": {
    "hash": "8f3e93ff3b9985710d7caaadb4d8ae6d002b24a2ff8b51ff6b7dcde3c00a2a4f"
   }
  }
 },
 "nbformat": 4,
 "nbformat_minor": 5
}
