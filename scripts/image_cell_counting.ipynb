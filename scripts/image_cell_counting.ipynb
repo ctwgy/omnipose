{
 "cells": [
  {
   "cell_type": "markdown",
   "id": "0",
   "metadata": {},
   "source": [
    "# Table S1\n",
    "How many cells are in the raw datasets"
   ]
  },
  {
   "cell_type": "code",
   "execution_count": null,
   "id": "1",
   "metadata": {},
   "outputs": [],
   "source": [
    "%load_ext autoreload\n",
    "%autoreload 2\n",
    "\n",
    "import numpy as np\n",
    "import time, os, sys\n",
    "from urllib.parse import urlparse\n",
    "from cellpose_omni import models, core, utils\n",
    "from pathlib import Path\n",
    "home = str(Path.home())\n",
    "\n",
    "import time, os, sys\n",
    "import skimage.io\n",
    "import matplotlib.pyplot as plt\n",
    "plt.style.use('dark_background')\n",
    "import matplotlib as mpl\n",
    "%matplotlib inline\n",
    "mpl.rcParams['figure.dpi'] = 300\n",
    "\n",
    "use_GPU = core.use_gpu()\n",
    "print('>>> GPU activated? %d'%use_GPU)"
   ]
  },
  {
   "cell_type": "code",
   "execution_count": null,
   "id": "2",
   "metadata": {},
   "outputs": [],
   "source": [
    "# 5I_crop data\n",
    "basedir = '/home/kcutler/DataDrive/5I_crop/xy5/masks'\n",
    "images = Path(basedir).glob(\"*.png\")\n",
    "files = [str(p) for p in images]\n",
    "masks_gt = [skimage.io.imread(f) for f in files]\n",
    "counts = [len(np.unique(m)) for m in masks_gt]\n",
    "total1 = np.sum(counts)\n",
    "nimg1 = len(files)\n",
    "print(total1,nimg1)"
   ]
  },
  {
   "cell_type": "code",
   "execution_count": null,
   "id": "3",
   "metadata": {},
   "outputs": [],
   "source": [
    "# A22 data\n",
    "basedir = '/home/kcutler/DataDrive/a22/xytRegister'\n",
    "images = Path(basedir).glob(\"*c1.tif\")\n",
    "files = [str(p) for p in images]\n",
    "imgs = [skimage.io.imread(f) for f in files]\n",
    "nimg2 = len(files)"
   ]
  },
  {
   "cell_type": "code",
   "execution_count": null,
   "id": "4",
   "metadata": {},
   "outputs": [],
   "source": [
    "modeldir = '/home/kcutler/DataDrive/skelpose_train/registered/models/cellpose_residual_on_style_on_concatenation_off_registered_2021_09_26_14_51_45.587717_epoch_3951'\n",
    "skel = True\n",
    "rescale = False\n",
    "nclasses = 4\n",
    "model = models.CellposeModel(gpu=use_GPU, pretrained_model=modeldir, net_avg=False, nclasses=nclasses)\n",
    "nimg = len(imgs)\n",
    "n = range(nimg)\n",
    "dist_threshold = 0 ##############\n",
    "diam_threshold = 12\n",
    "cluster = 1\n",
    "verbose = 0\n",
    "chans = [0,0]\n",
    "\n",
    "masks, flows, styles = model.eval([imgs[i] for i in n],channels=chans,diameter=None,dist_threshold=dist_threshold,\n",
    "                                  flow_threshold=0,skel=skel,resample=False,verbose=verbose,diam_threshold=diam_threshold,cluster=cluster)"
   ]
  },
  {
   "cell_type": "code",
   "execution_count": null,
   "id": "5",
   "metadata": {},
   "outputs": [],
   "source": [
    "from cellpose_omni import io\n",
    "# io.save_masks(imgs, masks, flows, files, tif=True, save_flows=True, save_outlines=True, dir_above=True, in_folders=True, save_txt=False)"
   ]
  },
  {
   "cell_type": "code",
   "execution_count": null,
   "id": "6",
   "metadata": {},
   "outputs": [],
   "source": [
    "counts = [len(np.unique(m)) for m in masks]\n",
    "total2 = np.sum(counts)"
   ]
  },
  {
   "cell_type": "code",
   "execution_count": null,
   "id": "7",
   "metadata": {},
   "outputs": [],
   "source": [
    "# caulo data\n",
    "basedir = '/home/kcutler/DataDrive/caulobacter etc/exported'\n",
    "images = Path(basedir).glob(\"*C1.tif\")\n",
    "files = [str(p) for p in images]\n",
    "imgs = [skimage.io.imread(f) for f in files]\n",
    "nimg3 = len(files)\n",
    "# masks = Path(basedir).glob(\"*cp_masks.png\")\n",
    "# maskfiles = [str(p) for p in masks]\n",
    "# msks = [skimage.io.imread(f) for f in maskfiles]"
   ]
  },
  {
   "cell_type": "code",
   "execution_count": null,
   "id": "8",
   "metadata": {},
   "outputs": [],
   "source": [
    "nimg = len(imgs)\n",
    "n = range(nimg)\n",
    "dist_threshold = -1\n",
    "masks, flows, styles = model.eval([imgs[i] for i in n],channels=chans,diameter=None,dist_threshold=dist_threshold,\n",
    "                                  flow_threshold=0,skel=skel,resample=False,verbose=verbose,diam_threshold=diam_threshold,cluster=cluster)"
   ]
  },
  {
   "cell_type": "code",
   "execution_count": null,
   "id": "9",
   "metadata": {},
   "outputs": [],
   "source": [
    "counts = [len(np.unique(m)) for m in masks]\n",
    "total3 = np.sum(counts)\n",
    "# io.save_masks(imgs, masks, flows, files, tif=True, save_flows=True, save_outlines=True, dir_above=False, in_folders=True, save_txt=False)\n",
    "print(total3)"
   ]
  },
  {
   "cell_type": "code",
   "execution_count": null,
   "id": "10",
   "metadata": {},
   "outputs": [],
   "source": [
    "# cex data \n",
    "basedir = '/home/kcutler/DataDrive/cephalexin/f/multi/xytRegister/masks'\n",
    "images = Path(basedir).glob(\"*.png\")\n",
    "files = [str(p) for p in images]\n",
    "masks = [skimage.io.imread(f) for f in files]\n",
    "nimg4 = len(files)"
   ]
  },
  {
   "cell_type": "code",
   "execution_count": null,
   "id": "11",
   "metadata": {},
   "outputs": [],
   "source": [
    "counts = [len(np.unique(m)) for m in masks]\n",
    "total4 = np.sum(counts)\n",
    "print(total4,nimg4)"
   ]
  },
  {
   "cell_type": "code",
   "execution_count": null,
   "id": "12",
   "metadata": {},
   "outputs": [],
   "source": [
    "# cex data 2 (e. coli, not s.flex)\n",
    "basedir = '/home/kcutler/DataDrive/cephalexin/e'\n",
    "images = Path(basedir).glob(\"*.tif\")\n",
    "files = [str(p) for p in images]\n",
    "imgs = [skimage.io.imread(f) for f in files]\n",
    "nimg5 = len(files)"
   ]
  },
  {
   "cell_type": "code",
   "execution_count": null,
   "id": "13",
   "metadata": {},
   "outputs": [],
   "source": [
    "nimg = len(imgs)\n",
    "n = range(nimg)\n",
    "dist_threshold = -1\n",
    "masks, flows, styles = model.eval([imgs[i] for i in n],channels=chans,diameter=None,dist_threshold=dist_threshold,\n",
    "                                  flow_threshold=0,skel=skel,resample=False,verbose=verbose,diam_threshold=diam_threshold,cluster=cluster)"
   ]
  },
  {
   "cell_type": "code",
   "execution_count": null,
   "id": "14",
   "metadata": {},
   "outputs": [],
   "source": [
    "# io.save_masks(imgs, masks, flows, files, tif=True, save_flows=True, save_outlines=True, dir_above=False, in_folders=True, save_txt=False)\n",
    "counts = [len(np.unique(m)) for m in masks]\n",
    "total5 = np.sum(counts)\n",
    "print(total5,nimg5)"
   ]
  },
  {
   "cell_type": "code",
   "execution_count": null,
   "id": "15",
   "metadata": {},
   "outputs": [],
   "source": [
    "# dnaA data\n",
    "basedir = '/home/kcutler/DataDrive/dnaA/'\n",
    "images = Path(basedir).rglob(\"*cp_masks.png\")\n",
    "files = [str(p) for p in images]\n",
    "masks = [skimage.io.imread(f) for f in files]\n",
    "nimg6 = len(files)"
   ]
  },
  {
   "cell_type": "code",
   "execution_count": null,
   "id": "16",
   "metadata": {},
   "outputs": [],
   "source": [
    "counts = [len(np.unique(m)) for m in masks]\n",
    "total6 = np.sum(counts)\n",
    "print(total6,nimg6)"
   ]
  },
  {
   "cell_type": "code",
   "execution_count": null,
   "id": "17",
   "metadata": {},
   "outputs": [],
   "source": [
    "# murA data\n",
    "basedir = '/home/kcutler/DataDrive/murA_crop/'\n",
    "images = Path(basedir).rglob(\"*cp_masks.png\")\n",
    "files = [str(p) for p in images]\n",
    "masks = [skimage.io.imread(f) for f in files]\n",
    "nimg7 = len(files)"
   ]
  },
  {
   "cell_type": "code",
   "execution_count": null,
   "id": "18",
   "metadata": {},
   "outputs": [],
   "source": [
    "counts = [len(np.unique(m)) for m in masks]\n",
    "total7 = np.sum(counts)\n",
    "print(total7,nimg7)"
   ]
  },
  {
   "cell_type": "code",
   "execution_count": null,
   "id": "19",
   "metadata": {},
   "outputs": [],
   "source": [
    "#ftsN data\n",
    "basedir = '/home/kcutler/DataDrive/merge_ftsN/xy1/crop/xy1/masks'\n",
    "images = Path(basedir).rglob(\"*_masks.png\")\n",
    "files = [str(p) for p in images]\n",
    "masks = [skimage.io.imread(f) for f in files]\n",
    "nimg8 = len(files)\n",
    "counts = [len(np.unique(m)) for m in masks]\n",
    "total8 = np.sum(counts)\n",
    "print(total8,nimg8)"
   ]
  },
  {
   "cell_type": "code",
   "execution_count": null,
   "id": "20",
   "metadata": {},
   "outputs": [],
   "source": [
    "# E. coli branching mutant \n",
    "basedir = '/home/kcutler/DataDrive/4529 branching/'\n",
    "images = Path(basedir).rglob(\"*xytRegister/*c1.tif\")\n",
    "files = [str(p) for p in images]\n",
    "imgs = [skimage.io.imread(f) for f in files]\n",
    "nimg9 = len(files)\n",
    "for n in range(nimg9):\n",
    "    if len(imgs[n].shape) > 2:\n",
    "            imgs[n] = imgs[n][:,:,0]"
   ]
  },
  {
   "cell_type": "code",
   "execution_count": null,
   "id": "21",
   "metadata": {},
   "outputs": [],
   "source": [
    "nimg = len(imgs)\n",
    "n = range(nimg)\n",
    "dist_threshold = -1\n",
    "masks, flows, styles = model.eval([imgs[i] for i in n],channels=chans,diameter=None,dist_threshold=dist_threshold,\n",
    "                                  flow_threshold=0,skel=skel,resample=False,verbose=verbose,diam_threshold=diam_threshold,cluster=False)"
   ]
  },
  {
   "cell_type": "code",
   "execution_count": null,
   "id": "22",
   "metadata": {},
   "outputs": [],
   "source": [
    "# io.save_masks(imgs, masks, flows, files, tif=True, save_flows=True, save_outlines=True, dir_above=False, in_folders=True, save_txt=False, png=False, skel=skel)\n",
    "counts = [len(np.unique(m)) for m in masks]\n",
    "total9 = np.sum(counts)\n",
    "print(total9,nimg9)"
   ]
  },
  {
   "cell_type": "code",
   "execution_count": null,
   "id": "23",
   "metadata": {},
   "outputs": [],
   "source": [
    "# hpylori data\n",
    "basedir = '/home/kcutler/DataDrive/Hpylori'\n",
    "images = Path(basedir).rglob(\"*C1.tif\")\n",
    "files = [str(p) for p in images]\n",
    "imgs = [skimage.io.imread(f) for f in files]\n",
    "nimg10 = len(files)\n",
    "for n in range(nimg10):\n",
    "    if len(imgs[n].shape) > 2:\n",
    "            imgs[n] = imgs[n][:,:,0]"
   ]
  },
  {
   "cell_type": "code",
   "execution_count": null,
   "id": "24",
   "metadata": {},
   "outputs": [],
   "source": [
    "nimg = len(imgs)\n",
    "n = range(nimg)\n",
    "dist_threshold = -1\n",
    "masks, flows, styles = model.eval([imgs[i] for i in n],channels=chans,diameter=None,dist_threshold=dist_threshold,\n",
    "                                  flow_threshold=0,skel=skel,resample=False,verbose=verbose,diam_threshold=diam_threshold,cluster=False)"
   ]
  },
  {
   "cell_type": "code",
   "execution_count": null,
   "id": "25",
   "metadata": {},
   "outputs": [],
   "source": [
    "# io.save_masks(imgs, masks, flows, files, tif=True, save_flows=True, save_outlines=True, dir_above=False, in_folders=True, save_txt=False, png=False, skel=skel)\n",
    "counts = [len(np.unique(m)) for m in masks]\n",
    "total10 = np.sum(counts)\n",
    "print(total10,nimg10)"
   ]
  },
  {
   "cell_type": "code",
   "execution_count": null,
   "id": "26",
   "metadata": {},
   "outputs": [],
   "source": [
    "# hpylori data (second round)\n",
    "basedir = '/home/kcutler/DataDrive/newHpyloriCombined'\n",
    "images = Path(basedir).rglob(\"*cp_masks.png\")\n",
    "files = [str(p) for p in images]\n",
    "masks = [skimage.io.imread(f) for f in files]\n",
    "nimg11 = len(files)\n",
    "counts = [len(np.unique(m)) for m in masks]\n",
    "total11 = np.sum(counts)\n",
    "print(total11,nimg11)"
   ]
  },
  {
   "cell_type": "code",
   "execution_count": null,
   "id": "27",
   "metadata": {},
   "outputs": [],
   "source": [
    "# E. coli and serratia /Volumes/DataDrive/ecVSsp\n",
    "# basedir = '/home/kcutler/DataDrive/ecVSsp' wring directory, that was the snapshots\n",
    "basedir = '/home/kcutler/DataDrive/Serratia vs E. coli/'\n",
    "images = Path(basedir).rglob(\"*C1.tif\")\n",
    "files = [str(p) for p in images]\n",
    "imgs = [skimage.io.imread(f) for f in files]\n",
    "nimg12 = len(files)"
   ]
  },
  {
   "cell_type": "code",
   "execution_count": null,
   "id": "28",
   "metadata": {},
   "outputs": [],
   "source": [
    "nimg = len(imgs)\n",
    "n = range(nimg)\n",
    "dist_threshold = -1\n",
    "masks, flows, styles = model.eval([imgs[i] for i in n],channels=chans,diameter=None,dist_threshold=dist_threshold,\n",
    "                                  flow_threshold=0,skel=skel,resample=False,verbose=verbose,diam_threshold=diam_threshold,cluster=False)"
   ]
  },
  {
   "cell_type": "code",
   "execution_count": null,
   "id": "29",
   "metadata": {},
   "outputs": [],
   "source": [
    "io.save_masks(imgs, masks, flows, files, tif=True, save_flows=True, save_outlines=True, dir_above=False, in_folders=True, save_txt=False, png=False, skel=skel)\n",
    "counts = [len(np.unique(m)) for m in masks]\n",
    "total12 = np.sum(counts)\n",
    "print(total12,nimg12)"
   ]
  },
  {
   "cell_type": "code",
   "execution_count": null,
   "id": "30",
   "metadata": {},
   "outputs": [],
   "source": [
    "#psvb mix a\n",
    "basedir = '/home/kcutler/DataDrive/PSVB mix/a/xytRegister'\n",
    "images = Path(basedir).rglob(\"*cp_masks.png\")\n",
    "files = [str(p) for p in images]\n",
    "masks = [skimage.io.imread(f) for f in files]\n",
    "nimg13 = len(files)\n",
    "counts = [len(np.unique(m)) for m in masks]\n",
    "total13 = np.sum(counts)\n",
    "print(total13,nimg13)"
   ]
  },
  {
   "cell_type": "code",
   "execution_count": null,
   "id": "31",
   "metadata": {},
   "outputs": [],
   "source": [
    "#psvb mix b\n",
    "basedir = '/home/kcutler/DataDrive/PSVB mix/b/xytRegister'\n",
    "images = Path(basedir).rglob(\"*c1.tif\")\n",
    "files = [str(p) for p in images]\n",
    "imgs = [skimage.io.imread(f) for f in files]\n",
    "nimg14 = len(files)"
   ]
  },
  {
   "cell_type": "code",
   "execution_count": null,
   "id": "32",
   "metadata": {},
   "outputs": [],
   "source": [
    "nimg = len(imgs)\n",
    "n = range(nimg)\n",
    "dist_threshold = -1\n",
    "masks, flows, styles = model.eval([imgs[i] for i in n],channels=chans,diameter=None,dist_threshold=dist_threshold,\n",
    "                                  flow_threshold=0,skel=skel,resample=False,verbose=verbose,diam_threshold=diam_threshold,cluster=False)"
   ]
  },
  {
   "cell_type": "code",
   "execution_count": null,
   "id": "33",
   "metadata": {},
   "outputs": [],
   "source": [
    "# io.save_masks(imgs, masks, flows, files, tif=True, save_flows=True, save_outlines=True, dir_above=False, in_folders=True, save_txt=False, png=False, skel=skel)\n",
    "counts = [len(np.unique(m)) for m in masks]\n",
    "total14 = np.sum(counts)\n",
    "print(total14,nimg14)"
   ]
  },
  {
   "cell_type": "code",
   "execution_count": null,
   "id": "34",
   "metadata": {},
   "outputs": [],
   "source": [
    "#psvb mix c - oops, already had the masks for that one, oh well\n",
    "basedir = '/home/kcutler/DataDrive/PSVB mix/c/xytRegister'\n",
    "images = Path(basedir).rglob(\"*c1.tif\")\n",
    "files = [str(p) for p in images]\n",
    "imgs = [skimage.io.imread(f) for f in files]\n",
    "nimg15 = len(files)"
   ]
  },
  {
   "cell_type": "code",
   "execution_count": null,
   "id": "35",
   "metadata": {},
   "outputs": [],
   "source": [
    "nimg = len(imgs)\n",
    "n = range(nimg)\n",
    "dist_threshold = -1\n",
    "masks, flows, styles = model.eval([imgs[i] for i in n],channels=chans,diameter=None,dist_threshold=dist_threshold,\n",
    "                                  flow_threshold=0,skel=skel,resample=False,verbose=verbose,diam_threshold=diam_threshold,cluster=False)"
   ]
  },
  {
   "cell_type": "code",
   "execution_count": null,
   "id": "36",
   "metadata": {},
   "outputs": [],
   "source": [
    "io.save_masks(imgs, masks, flows, files, tif=True, save_flows=True, save_outlines=True, dir_above=False, in_folders=True, save_txt=False, png=False, skel=skel)\n",
    "counts = [len(np.unique(m)) for m in masks]\n",
    "total15 = np.sum(counts)\n",
    "print(total15,nimg15)"
   ]
  },
  {
   "cell_type": "code",
   "execution_count": null,
   "id": "37",
   "metadata": {},
   "outputs": [],
   "source": [
    "#pao1 and staph \n",
    "basedir = '/home/kcutler/DataDrive/PAO1 and staph/xytRegister'\n",
    "images = Path(basedir).rglob(\"*cp_masks.png\")\n",
    "files = [str(p) for p in images]\n",
    "masks = [skimage.io.imread(f) for f in files]\n",
    "nimg16 = len(files)\n",
    "counts = [len(np.unique(m)) for m in masks]\n",
    "total16 = np.sum(counts)\n",
    "print(total16,nimg16)"
   ]
  },
  {
   "cell_type": "code",
   "execution_count": null,
   "id": "38",
   "metadata": {},
   "outputs": [],
   "source": [
    "#streptomyces\n",
    "basedir = '/home/kcutler/DataDrive/streptomyces'\n",
    "images = Path(basedir).rglob(\"*C1.tif\")\n",
    "files = [str(p) for p in images]\n",
    "imgs = [skimage.io.imread(f) for f in files]\n",
    "nimg17 = len(files)\n"
   ]
  },
  {
   "cell_type": "code",
   "execution_count": null,
   "id": "39",
   "metadata": {},
   "outputs": [],
   "source": [
    "nimg = len(imgs)\n",
    "n = range(nimg)\n",
    "dist_threshold = -1\n",
    "masks, flows, styles = model.eval([imgs[i] for i in n],channels=chans,diameter=None,dist_threshold=dist_threshold,\n",
    "                                  flow_threshold=0,skel=skel,resample=False,verbose=verbose,diam_threshold=diam_threshold,cluster=False)"
   ]
  },
  {
   "cell_type": "code",
   "execution_count": null,
   "id": "40",
   "metadata": {},
   "outputs": [],
   "source": [
    "# io.save_masks(imgs, masks, flows, files, tif=True, save_flows=True, save_outlines=True, dir_above=False, in_folders=True, save_txt=False, png=False, skel=skel)\n",
    "counts = [len(np.unique(m)) for m in masks]\n",
    "total17 = np.sum(counts)\n",
    "print(total17,nimg17)"
   ]
  },
  {
   "cell_type": "code",
   "execution_count": null,
   "id": "41",
   "metadata": {},
   "outputs": [],
   "source": [
    "# vibrio\n",
    "basedir = '/home/kcutler/DataDrive/vibrio/masks'\n",
    "images = Path(basedir).rglob(\"*cp_masks.png\")\n",
    "files = [str(p) for p in images]\n",
    "masks = [skimage.io.imread(f) for f in files]\n",
    "nimg18 = len(files)\n",
    "counts = [len(np.unique(m)) for m in masks]\n",
    "total18 = np.sum(counts)\n",
    "print(total18,nimg18)"
   ]
  },
  {
   "cell_type": "code",
   "execution_count": null,
   "id": "42",
   "metadata": {},
   "outputs": [],
   "source": [
    "#'wiggins' teresa data\n",
    "basedirs = {'/home/kcutler/DataDrive/teresadata/210409_1236_3M9pad_timelapse_1_6',\n",
    "            '/home/kcutler/DataDrive/teresadata/210403_789_LB_IPTG_timelapse_1_1',\n",
    "            '/home/kcutler/DataDrive/teresadata/210402_789_IPTG_timelapse_1_2',\n",
    "            '/home/kcutler/DataDrive/teresadata/210402_789_IPTG_timelapse_1_1',\n",
    "            '/home/kcutler/DataDrive/teresadata/210330_789_IPTG_timelapse_1_2',\n",
    "            '/home/kcutler/DataDrive/teresadata/210326_789_IPTG_timelapse_1_2',\n",
    "            '/home/kcutler/DataDrive/teresadata/210326_789_IPTG_timelapse_1_1',\n",
    "            '/home/kcutler/DataDrive/teresadata/210325_789_IPTG_timelapse_1_1'}\n",
    "total19 = 0\n",
    "nimg19 = 0\n",
    "for basedir in basedirs:\n",
    "    images = Path(basedir).rglob(\"*cp_masks.png\")\n",
    "    files = [str(p) for p in images]\n",
    "    masks = [skimage.io.imread(f) for f in files]\n",
    "    nimg = len(files)\n",
    "    counts = [len(np.unique(m)) for m in masks]\n",
    "    total = np.sum(counts)\n",
    "    print(total,nimg)\n",
    "    total19 += total\n",
    "    nimg19 += nimg\n",
    "print(total19,nimg19)"
   ]
  },
  {
   "cell_type": "code",
   "execution_count": null,
   "id": "43",
   "metadata": {},
   "outputs": [],
   "source": [
    "# b thai\n",
    "basedir = '/home/kcutler/DataDrive/tle3/greenvsRG/f/xytRegister/align/masks'\n",
    "images = Path(basedir).rglob(\"*_masks.png\")\n",
    "files = [str(p) for p in images]\n",
    "masks = [skimage.io.imread(f) for f in files]\n",
    "nimg20 = len(files)\n",
    "counts = [len(np.unique(m)) for m in masks]\n",
    "total20 = np.sum(counts)\n",
    "print(total20,nimg20)"
   ]
  },
  {
   "cell_type": "code",
   "execution_count": null,
   "id": "44",
   "metadata": {},
   "outputs": [],
   "source": [
    "# francisella\n",
    "basedir = '/home/kcutler/DataDrive/Francisella/multi'\n",
    "images = Path(basedir).rglob(\"*c1.tif\")\n",
    "files = [str(p) for p in images]\n",
    "imgs = [skimage.io.imread(f) for f in files]\n",
    "nimg21 = len(files)"
   ]
  },
  {
   "cell_type": "code",
   "execution_count": null,
   "id": "45",
   "metadata": {},
   "outputs": [],
   "source": [
    "nimg = len(imgs)\n",
    "n = range(nimg)\n",
    "dist_threshold = -1\n",
    "masks, flows, styles = model.eval([imgs[i] for i in n],channels=chans,diameter=None,dist_threshold=dist_threshold,\n",
    "                                  flow_threshold=0,skel=skel,resample=False,verbose=verbose,diam_threshold=diam_threshold,cluster=False)"
   ]
  },
  {
   "cell_type": "code",
   "execution_count": null,
   "id": "46",
   "metadata": {},
   "outputs": [],
   "source": [
    "io.save_masks(imgs, masks, flows, files, tif=True, save_flows=True, save_outlines=True, dir_above=False, in_folders=True, save_txt=False, png=False, skel=skel)\n",
    "counts = [len(np.unique(m)) for m in masks]\n",
    "total21 = np.sum(counts)\n",
    "print(total21,nimg21)"
   ]
  },
  {
   "cell_type": "code",
   "execution_count": null,
   "id": "47",
   "metadata": {},
   "outputs": [],
   "source": [
    "finalCellCount = 0\n",
    "finalImgCount = 0\n",
    "names = ['5I_crop','A22','caulo','cex s flex','cex ec','dnaA','murA','ftsN','ec mutant',\n",
    "         'hpyori','hpylori 2','serratia+ec','psvb a','psvb b','psvb c','pao1 staph','streptomyces',\n",
    "         'vibrio','wiggins/teresa','bthai','francisella']\n",
    "for i in range(1,22):\n",
    "    print(names[i-1],str(i))\n",
    "    exec(\"print(%s,%s)\" % ('nimg'+str(i),'total'+str(i)))\n",
    "    exec(\"%s += %s\" % ('finalCellCount','total'+str(i)))\n",
    "    exec(\"%s += %s\" % ('finalImgCount','nimg'+str(i)))"
   ]
  },
  {
   "cell_type": "code",
   "execution_count": null,
   "id": "48",
   "metadata": {},
   "outputs": [],
   "source": [
    "#total psvb\n",
    "nimg13+nimg14+nimg15,total13+total14+total15"
   ]
  },
  {
   "cell_type": "code",
   "execution_count": null,
   "id": "49",
   "metadata": {},
   "outputs": [],
   "source": [
    "finalCellCount/finalImgCount"
   ]
  },
  {
   "cell_type": "code",
   "execution_count": null,
   "id": "50",
   "metadata": {},
   "outputs": [],
   "source": [
    "finalCellCount,finalImgCount"
   ]
  },
  {
   "cell_type": "code",
   "execution_count": null,
   "id": "51",
   "metadata": {},
   "outputs": [],
   "source": [
    "len(names)"
   ]
  },
  {
   "cell_type": "markdown",
   "id": "52",
   "metadata": {},
   "source": [
    "# Count ground truth"
   ]
  },
  {
   "cell_type": "code",
   "execution_count": null,
   "id": "53",
   "metadata": {},
   "outputs": [],
   "source": [
    "# base = '/home/kcutler/DataDrive/skelpose_test/'\n",
    "base = '/home/kcutler/DataDrive/omnipose_all/phase/train_sorted/'\n",
    "folders = [x[0] for x in os.walk(base)][1:]\n",
    "names_train = [os.path.split(f)[-1] for f in folders]\n",
    "\n",
    "nimg_train = []\n",
    "total_train = []\n",
    "train_count = dict()\n",
    "for idx,fldr in enumerate(folders):\n",
    "    images = Path(fldr).glob(\"*masks*\")\n",
    "    files = [str(p) for p in images]\n",
    "    masks_gt = [skimage.io.imread(f) for f in files]\n",
    "    counts = [len(np.unique(m)) for m in masks_gt]\n",
    "    total0 = np.sum(counts)\n",
    "    nimg0 = len(files)\n",
    "    nimg_train.append(nimg0)\n",
    "    total_train.append(total0)\n",
    "    train_count[names_train[idx]] = total0\n",
    "    print(names_train[idx],total0)\n",
    "np.sum(total_train)"
   ]
  },
  {
   "cell_type": "code",
   "execution_count": null,
   "id": "54",
   "metadata": {},
   "outputs": [],
   "source": [
    "base = '/home/kcutler/DataDrive/omnipose_all/phase/test_sorted/'\n",
    "# base = '/home/kcutler/DataDrive/omnipose_all/phase/train_sorted/'\n",
    "\n",
    "folders = [x[0] for x in os.walk(base)][1:]\n",
    "names_test = [os.path.split(f)[-1] for f in folders]\n",
    "\n",
    "nimg_test = []\n",
    "total_test = []\n",
    "test_count = dict()\n",
    "for idx,fldr in enumerate(folders):\n",
    "    images = Path(fldr).glob(\"*masks*\")\n",
    "    files = [str(p) for p in images]\n",
    "    masks_gt = [skimage.io.imread(f) for f in files]\n",
    "    counts = [len(np.unique(m))-1 for m in masks_gt]\n",
    "    total0 = np.sum(counts)\n",
    "    nimg0 = len(files)\n",
    "    nimg_test.append(nimg0)\n",
    "    total_test.append(total0)\n",
    "    test_count[names_test[idx]] = total0\n",
    "    print(names_test[idx],total0)\n",
    "print(np.sum(total_test))"
   ]
  },
  {
   "cell_type": "code",
   "execution_count": null,
   "id": "55",
   "metadata": {},
   "outputs": [],
   "source": [
    "SUM = np.sum(total_test)+np.sum(total_train)\n",
    "SUM"
   ]
  },
  {
   "cell_type": "code",
   "execution_count": null,
   "id": "56",
   "metadata": {},
   "outputs": [],
   "source": [
    "\n",
    "common_names = set(names_train).intersection(names_test)\n",
    "for c in common_names:\n",
    "    a = test_count[c]\n",
    "    b = train_count[c]\n",
    "    total = a+b\n",
    "    print(c, a,b,total, total/SUM*100)\n",
    "    "
   ]
  },
  {
   "cell_type": "code",
   "execution_count": null,
   "id": "57",
   "metadata": {},
   "outputs": [],
   "source": [
    "SUM"
   ]
  },
  {
   "cell_type": "code",
   "execution_count": null,
   "id": "58",
   "metadata": {},
   "outputs": [],
   "source": [
    "for i in range(len(names_train)):\n",
    "    tot = total_test[i]+total_train[i]\n",
    "    print(names_train[i],tot, tot/SUM*100)\n",
    "#     print(tot, tot/SUM*100)"
   ]
  },
  {
   "cell_type": "code",
   "execution_count": null,
   "id": "59",
   "metadata": {},
   "outputs": [],
   "source": [
    "sorted(np.array(total_test)+total_train)"
   ]
  },
  {
   "cell_type": "code",
   "execution_count": null,
   "id": "60",
   "metadata": {},
   "outputs": [],
   "source": [
    "p = []\n",
    "for i in range(len(names_train)):\n",
    "    tot = total_test[i]+total_train[i]\n",
    "    p.append(tot/SUM*100)"
   ]
  },
  {
   "cell_type": "code",
   "execution_count": null,
   "id": "61",
   "metadata": {},
   "outputs": [],
   "source": [
    "sorted(p)"
   ]
  },
  {
   "cell_type": "code",
   "execution_count": null,
   "id": "62",
   "metadata": {},
   "outputs": [],
   "source": [
    "nimg17"
   ]
  },
  {
   "cell_type": "code",
   "execution_count": null,
   "id": "63",
   "metadata": {},
   "outputs": [],
   "source": [
    "base = '/home/kcutler/DataDrive/omnipose_all/phase/train_sorted/streptomyces'\n",
    "images = Path(base).glob(\"*masks*\")\n",
    "files = [str(p) for p in images]\n",
    "masks_gt = [skimage.io.imread(f) for f in files]\n",
    "counts = [len(np.unique(m))-1 for m in masks_gt]\n",
    "total0 = np.sum(counts)\n",
    "total0"
   ]
  },
  {
   "cell_type": "code",
   "execution_count": null,
   "id": "64",
   "metadata": {},
   "outputs": [],
   "source": [
    "files"
   ]
  },
  {
   "cell_type": "code",
   "execution_count": null,
   "id": "65",
   "metadata": {},
   "outputs": [],
   "source": [
    "base = '/home/kcutler/DataDrive/omnipose_all/phase/test_sorted/streptomyces'\n",
    "images = Path(base).glob(\"*masks*\")\n",
    "files = [str(p) for p in images]\n",
    "masks_gt = [skimage.io.imread(f) for f in files]\n",
    "counts = [len(np.unique(m))-1 for m in masks_gt]\n",
    "total0 = np.sum(counts)\n",
    "total0"
   ]
  },
  {
   "cell_type": "code",
   "execution_count": null,
   "id": "66",
   "metadata": {},
   "outputs": [],
   "source": [
    "files"
   ]
  },
  {
   "cell_type": "code",
   "execution_count": null,
   "id": "67",
   "metadata": {},
   "outputs": [],
   "source": []
  }
 ],
 "metadata": {
  "kernelspec": {
   "display_name": "Python 3 (ipykernel)",
   "language": "python",
   "name": "python3"
  },
  "language_info": {
   "codemirror_mode": {
    "name": "ipython",
    "version": 3
   },
   "file_extension": ".py",
   "mimetype": "text/x-python",
   "name": "python",
   "nbconvert_exporter": "python",
   "pygments_lexer": "ipython3",
   "version": "3.8.10"
  }
 },
 "nbformat": 4,
 "nbformat_minor": 5
}
