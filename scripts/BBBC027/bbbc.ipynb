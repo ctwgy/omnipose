{
 "cells": [
  {
   "cell_type": "code",
   "execution_count": null,
   "id": "0",
   "metadata": {},
   "outputs": [],
   "source": [
    "%load_ext autoreload\n",
    "%autoreload 2\n",
    "\n",
    "\n",
    "import numpy as np\n",
    "import time, os, sys\n",
    "\n",
    "import skimage.io\n",
    "import matplotlib.pyplot as plt\n",
    "plt.style.use('dark_background')\n",
    "import matplotlib as mpl\n",
    "%matplotlib inline\n",
    "mpl.rcParams['figure.dpi'] = 300\n",
    "\n",
    "from scipy.ndimage import binary_closing,grey_closing\n",
    "from skimage import measure\n",
    "import napari \n",
    "import omnipose\n",
    "import ncolor \n",
    "from omnipose.utils import sinebow\n",
    "\n",
    "from scipy.ndimage import gaussian_filter\n",
    "from omnipose.utils import normalize99, rescale\n",
    "from scipy.ndimage import gaussian_filter\n",
    "\n",
    "def localnormalize(im,sigma1=2,sigma2=3):\n",
    "    im = normalize99(im)\n",
    "    blur1 = gaussian_filter(im,sigma=sigma1)\n",
    "    num = im - blur1\n",
    "    blur2 = gaussian_filter(num*num, sigma=sigma2)\n",
    "    den = np.sqrt(blur2)\n",
    "    \n",
    "    return normalize99(num/den+1e-8)\n",
    "\n",
    "def cyclic_perm(a):\n",
    "    n = len(a)\n",
    "    b = [[a[i - j] for i in range(n)] for j in range(n)]\n",
    "    return b\n",
    "\n",
    "# Make a function that extracts the file name \n",
    "from pathlib import Path\n",
    "def getname(path,suffix=''):\n",
    "    return os.path.splitext(Path(path).name)[0].replace(suffix,'')\n",
    "\n",
    "import tifffile\n",
    "from omnipose import core\n",
    "import fastremap\n",
    "import scipy\n",
    "from cellpose_omni import io"
   ]
  },
  {
   "cell_type": "code",
   "execution_count": null,
   "id": "1",
   "metadata": {},
   "outputs": [],
   "source": [
    "from aicsimageio import AICSImage\n",
    "\n",
    "# Get an AICSImage object\n",
    "number = 29\n",
    "img = AICSImage('/home/kcutler/DataDrive/3D_BBBC/BBBC024_v1_c75_highSNR_images/image-final_'+\"%04d\" % (number,)+'.ics').data.squeeze()\n",
    "mask =  AICSImage('/home/kcutler/DataDrive/3D_BBBC/BBBC024_v1_c75_highSNR_foreground/image-labels_'+\"%04d\" % (number,)+'.ics').data.squeeze()"
   ]
  },
  {
   "cell_type": "code",
   "execution_count": null,
   "id": "2",
   "metadata": {},
   "outputs": [],
   "source": [
    "img.shape"
   ]
  },
  {
   "cell_type": "code",
   "execution_count": null,
   "id": "3",
   "metadata": {},
   "outputs": [],
   "source": [
    "from cellpose_omni import io\n",
    "save0 = '/home/kcutler/DataDrive/3D_BBBC/BBBC027'\n",
    "savedir = []\n",
    "cpdir = []\n",
    "ext = '.tif'\n",
    "for t in ['test','train']:\n",
    "    sd = os.path.join(save0,t)\n",
    "    io.check_dir(sd)\n",
    "    savedir.append(sd)\n",
    "    sd = os.path.join(save0,'cellpose',t)\n",
    "    io.check_dir(sd)\n",
    "    cpdir.append(sd)\n",
    "    \n",
    "# from cellpose_omni import io\n",
    "# save0 = '/home/kcutler/DataDrive/3D_BBBC/BBBC027'\n",
    "# export = '/home/kcutler/DataDrive/3D_BBBC/BBBC027'\n",
    "\n",
    "# io.check_dir(export)\n",
    "# savedir = []\n",
    "# expdir = []\n",
    "# cpdir = []\n",
    "# ext = '.tif'\n",
    "# for t in ['test','train']:\n",
    "#     sd = os.path.join(save0,t)\n",
    "#     savedir.append(sd)\n",
    "#     sd = os.path.join(export,t)\n",
    "#     io.check_dir(sd)\n",
    "#     expdir.append(sd)\n",
    "#     sd = os.path.join(export,'cellpose',t)\n",
    "#     io.check_dir(sd)\n",
    "#     cpdir.append(sd)\n",
    "# savedir,expdir,cpdir\n"
   ]
  },
  {
   "cell_type": "code",
   "execution_count": null,
   "id": "4",
   "metadata": {},
   "outputs": [],
   "source": [
    "import fastremap\n",
    "for number in range(30):\n",
    "    name = \"%04d\" % (number,)\n",
    "    img = AICSImage(os.path.join(save0,'image-final_'+name+'.ics')).data.squeeze()\n",
    "    mask =  AICSImage(os.path.join(save0,'image-labels_'+name+'.ics')).data.squeeze()\n",
    "    labels, _ = scipy.ndimage.label(mask)\n",
    "    labels = fastremap.refit(labels)\n",
    "    if number%3:\n",
    "        sd = savedir[0]\n",
    "    else:\n",
    "        sd = savedir[1]\n",
    "        \n",
    "    tifffile.imwrite(os.path.join(sd,name+ext),img)\n",
    "    tifffile.imwrite(os.path.join(sd,name+'_masks'+ext),labels)"
   ]
  },
  {
   "cell_type": "code",
   "execution_count": null,
   "id": "5",
   "metadata": {},
   "outputs": [],
   "source": [
    "\n",
    "d = 3\n",
    "idx = np.arange(d)\n",
    "c = np.array([0]*(d-2)+[1]*2)\n",
    "cyclic_perm(c),idx,c\n",
    "ext = '.tif'\n",
    "a = 'zyx'\n",
    "# for basedir,save0 in zip(expdir,cpdir):\n",
    "for basedir,save0 in zip([savedir[1]],[cpdir[1]]): #only do train \n",
    "\n",
    "    mask_filter = '_masks'\n",
    "    img_names = io.get_image_files(basedir,mask_filter)\n",
    "    mask_names,_ = io.get_label_files(img_names, mask_filter)\n",
    "    for p1,p2 in zip(img_names,mask_names):\n",
    "        img = tifffile.imread(p1)\n",
    "        mask = tifffile.imread(p2)\n",
    "        s = img.shape\n",
    "        name = getname(p1)\n",
    "        for inds,i in zip(cyclic_perm(c),idx):\n",
    "            for k in range(s[i]):\n",
    "                slc = tuple([slice(-1) if i else k for i in inds])\n",
    "                suffix = '_'+a[i]+'{:03d}'.format(k)\n",
    "                l = omnipose.utils.format_labels(mask[slc],clean=True)\n",
    "                if np.any(l): # only keep slices that have masks\n",
    "                    tifffile.imwrite(os.path.join(save0,name+suffix+ext),np.uint16(omnipose.utils.rescale(img[slc])*(2**16-1)))\n",
    "                    tifffile.imwrite(os.path.join(save0,name+suffix+'_masks'+ext),l)"
   ]
  },
  {
   "cell_type": "code",
   "execution_count": null,
   "id": "6",
   "metadata": {},
   "outputs": [],
   "source": [
    "img[slc].shape"
   ]
  },
  {
   "cell_type": "code",
   "execution_count": null,
   "id": "7",
   "metadata": {},
   "outputs": [],
   "source": [
    "import fastremap\n",
    "labels = fastremap.refit(labels)\n",
    "labels.dtype"
   ]
  },
  {
   "cell_type": "code",
   "execution_count": null,
   "id": "8",
   "metadata": {},
   "outputs": [],
   "source": [
    "import ncolor\n",
    "from skimage import measure\n",
    "# labels = ncolor.label(measure.label(mask))\n",
    "import scipy\n",
    "labels, _ = scipy.ndimage.label(mask)\n",
    "# labels = ncolor.label(labels)\n",
    "viewer = napari.view_image(img, name='cells')\n",
    "viewer.add_labels(labels, name='labels')"
   ]
  },
  {
   "cell_type": "code",
   "execution_count": null,
   "id": "9",
   "metadata": {},
   "outputs": [],
   "source": [
    "labels.max()"
   ]
  },
  {
   "cell_type": "code",
   "execution_count": null,
   "id": "10",
   "metadata": {},
   "outputs": [],
   "source": [
    "labels[0].max()"
   ]
  },
  {
   "cell_type": "code",
   "execution_count": null,
   "id": "11",
   "metadata": {},
   "outputs": [],
   "source": [
    "!pip install b3get"
   ]
  },
  {
   "cell_type": "code",
   "execution_count": null,
   "id": "12",
   "metadata": {
    "jupyter": {
     "outputs_hidden": true
    },
    "tags": []
   },
   "outputs": [],
   "source": [
    "!b3get list"
   ]
  },
  {
   "cell_type": "code",
   "execution_count": null,
   "id": "13",
   "metadata": {
    "jupyter": {
     "outputs_hidden": true
    },
    "tags": []
   },
   "outputs": [],
   "source": [
    "import b3get\n",
    "\n",
    "images, labels = b3get.to_numpy(27)"
   ]
  },
  {
   "cell_type": "code",
   "execution_count": null,
   "id": "14",
   "metadata": {},
   "outputs": [],
   "source": []
  },
  {
   "cell_type": "code",
   "execution_count": null,
   "id": "15",
   "metadata": {},
   "outputs": [],
   "source": [
    "k = 0\n",
    "viewer = napari.view_image(images[k], name='cells')\n",
    "viewer.add_labels(labels[k], name='labels')"
   ]
  },
  {
   "cell_type": "code",
   "execution_count": null,
   "id": "16",
   "metadata": {},
   "outputs": [],
   "source": [
    "images[1].shape"
   ]
  },
  {
   "cell_type": "code",
   "execution_count": null,
   "id": "17",
   "metadata": {},
   "outputs": [],
   "source": [
    "masks32 = tifffile.imread('/home/kcutler/DataDrive/3D_BBBC/BBBC032_v1_DatasetGroundTruth.tif')"
   ]
  },
  {
   "cell_type": "code",
   "execution_count": null,
   "id": "18",
   "metadata": {},
   "outputs": [],
   "source": [
    "c0 = tifffile.imread('/home/kcutler/DataDrive/3D_BBBC/BBBC032_v1_dataset/BMP4blastocystC0.tif')\n",
    "c1 = tifffile.imread('/home/kcutler/DataDrive/3D_BBBC/BBBC032_v1_dataset/BMP4blastocystC1.tif')\n",
    "c2 = tifffile.imread('/home/kcutler/DataDrive/3D_BBBC/BBBC032_v1_dataset/BMP4blastocystC2.tif')\n",
    "c3 = tifffile.imread('/home/kcutler/DataDrive/3D_BBBC/BBBC032_v1_dataset/BMP4blastocystC3.tif')"
   ]
  },
  {
   "cell_type": "code",
   "execution_count": null,
   "id": "19",
   "metadata": {},
   "outputs": [],
   "source": [
    "viewer = napari.view_image(c0, name='c0',colormap='green',opacity=.5,blending='additive')\n",
    "viewer.add_image(c1, name='c1',colormap='gray',opacity=.5,blending='additive')\n",
    "viewer.add_image(c2, name='c2',colormap='blue',opacity=.5,blending='additive')\n",
    "viewer.add_image(c3, name='c3',colormap='red',opacity=.5,blending='additive')\n",
    "\n",
    "viewer.add_labels(masks32, name='labels')"
   ]
  },
  {
   "cell_type": "code",
   "execution_count": null,
   "id": "20",
   "metadata": {},
   "outputs": [],
   "source": []
  }
 ],
 "metadata": {
  "kernelspec": {
   "display_name": "Python 3 (ipykernel)",
   "language": "python",
   "name": "python3"
  },
  "language_info": {
   "codemirror_mode": {
    "name": "ipython",
    "version": 3
   },
   "file_extension": ".py",
   "mimetype": "text/x-python",
   "name": "python",
   "nbconvert_exporter": "python",
   "pygments_lexer": "ipython3",
   "version": "3.8.10"
  }
 },
 "nbformat": 4,
 "nbformat_minor": 5
}
