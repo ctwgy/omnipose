{
 "cells": [
  {
   "cell_type": "markdown",
   "id": "fcaee860-68e7-4878-8176-80aa4604661d",
   "metadata": {},
   "source": [
    "```{eval-rst}\n",
    ".. include:: sinebow.rst\n",
    "\n",
    "```\n",
    "\n",
    "{sinebow22}`Cell diameter`\n",
    "==================================\n",
    "\n",
    "The idea of an average cell diameter sounds intuitive, but the standard implementation of this idea fails to capture that intuition. \n",
    "The go-to method (adopted in Cellpose) is to calculate the cell diameter as the diameter of the circle of equivalent area. As I will demonstrate, \n",
    "this fails for anisotropic (non-circular) cells. As an alternative, I devised the following simple diameter metric: \n",
    "\n",
    "```python\n",
    "diameter = 2*(dimension+1)*np.mean(distance_field)\n",
    "```\n",
    "\n",
    "Because the distance field represents the distance to the *closest* boundary point, it naturally captures the intrinsic 'thickness' of a region (in any dimension). Averaging the field over the region \n",
    "(the first moment of the distribution) distills this information into a number that is intuitively proportional to the thickness of the region. For example, if a region is made up of a bungle of many \n",
    "thin fragments, its mean distance is far smaller than the mean distance of the circle of equivalent area. But to call it a 'diameter', I wanted this metric to match the diameter of a sphere in any dimension. \n",
    "So, by calculating the average of distance field of an n-sphere, we get the above expression for the the diameter of an n-sphere given the average of the distance field over the volume. \n",
    "\n",
    "## Example cells\n",
    "\n",
    "Filamenting bacterial cells often exhibit constant width but increasing length. This dataset comes from the deletion of the essential gene *ftsN* in *Acinetobacter baylyi*. "
   ]
  },
  {
   "cell_type": "code",
   "execution_count": null,
   "id": "ae9f0ea3-3c62-464a-bfa3-9af1fdf95f1e",
   "metadata": {
    "tags": [
     "remove-cell"
    ]
   },
   "outputs": [],
   "source": [
    "%load_ext autoreload\n",
    "%autoreload 2"
   ]
  },
  {
   "cell_type": "code",
   "execution_count": null,
   "id": "31b06a55-7d4a-4271-a858-943d21d7ae44",
   "metadata": {
    "tags": [
     "hide-input"
    ]
   },
   "outputs": [],
   "source": [
    "from pathlib import Path\n",
    "from cellpose_omni import utils, plot, models, io, dynamics\n",
    "import os, sys, io\n",
    "import numpy as np\n",
    "import matplotlib.pyplot as plt\n",
    "plt.style.use('dark_background')\n",
    "import matplotlib as mpl\n",
    "%matplotlib inline\n",
    "mpl.rcParams['figure.dpi'] = 300\n",
    "\n",
    "# Save a reference to the original stdout stream\n",
    "old_stdout = sys.stdout\n",
    "\n",
    "# Redirect stdout to a StringIO object\n",
    "sys.stdout = io.StringIO()\n",
    "\n",
    "\n",
    "import omnipose\n",
    "from omnipose.plot import imshow\n",
    "import tifffile\n",
    "omnidir = Path(omnipose.__file__).parent.parent\n",
    "basedir = os.path.join(omnidir,'docs','_static')\n",
    "nm = 'ftsZ'\n",
    "masks = tifffile.imread(os.path.join(basedir,nm+'_masks.tif'))\n",
    "mnc = omnipose.plot.apply_ncolor(masks)\n",
    "\n",
    "f = 1\n",
    "c = [0.5]*3\n",
    "fontsize=10\n",
    "dpi = mpl.rcParams['figure.dpi']\n",
    "Y,X = masks.shape[-2:]\n",
    "szX = max(X//dpi,2)*f\n",
    "szY = max(Y//dpi,2)*f\n",
    "\n",
    "# T = [50,80,100,150,180,240]\n",
    "T = range(0,len(masks),45)\n",
    "titles = ['Frame {}'.format(t) for t in T]\n",
    "ims = [mnc[t] for t in T]\n",
    "N = len(titles)\n",
    "\n",
    "fig, axes = plt.subplots(1,N, figsize=(szX*N,szY))  \n",
    "fig.patch.set_facecolor([0]*4)\n",
    "\n",
    "for i,ax in enumerate(axes):\n",
    "    ax.imshow(ims[i])\n",
    "    ax.axis('off')\n",
    "    ax.set_title(titles[i],c=c,fontsize=fontsize,fontweight=\"bold\")\n",
    "\n",
    "plt.subplots_adjust(wspace=0.1)\n",
    "plt.show()\n",
    "\n",
    "# Restore the original stdout stream\n",
    "sys.stdout = old_stdout"
   ]
  },
  {
   "cell_type": "markdown",
   "id": "3f7d0f69-1693-4033-b1fc-deafcc40a1c6",
   "metadata": {
    "tags": [
     "hide-input"
    ]
   },
   "source": [
    "## Compare diameter metrics\n",
    "By plotting the mean diameter (averaged over all cells after being computed per-cell, of course), we find that \n",
    "the 'circle diameter metric' used in Cellpose rises drastically with cell length, but the 'distance diameter metric' of Omnipose remains nearly constant. If we tried to use the former to train a `SizeModel()`, images would get downsampled \n",
    "heavily to the point of cells being **too thin to segment**, and that is assuming that the model can reliably detect the highly nonlocal property of cell length in an image instead of the local property of \n",
    "cell width (at least, what we humans would point to and *call* cell width). "
   ]
  },
  {
   "cell_type": "code",
   "execution_count": null,
   "id": "76fc76f6-4c98-4449-9d21-b47cb937e12b",
   "metadata": {
    "tags": [
     "hide-input"
    ]
   },
   "outputs": [],
   "source": [
    "import fastremap\n",
    "n = len(masks)\n",
    "diam_old = []\n",
    "diam_new = []\n",
    "cell_num = []\n",
    "x = range(n)\n",
    "for k in x:\n",
    "    m = masks[k]\n",
    "    fastremap.renumber(m,in_place=True)\n",
    "    cell_num.append(m.max())\n",
    "    diam_old.append(utils.diameters(m,omni=False)[0])\n",
    "    diam_new.append(utils.diameters(m,omni=True)[0])\n",
    "\n",
    "\n",
    "from omnipose.utils import sinebow\n",
    "golden = (1 + 5 ** 0.5) / 2\n",
    "sz = 2.5\n",
    "labelsize = 5\n",
    "\n",
    "%matplotlib inline\n",
    "\n",
    "plt.style.use('dark_background')\n",
    "mpl.rcParams['figure.dpi'] = 300 \n",
    "\n",
    "axcol = [0.5]*3+[1]\n",
    "N = 3\n",
    "colors = sinebow(N,offset=0)\n",
    "background_color = [0]*4\n",
    "\n",
    "fig = plt.figure(figsize=(sz, sz/golden)) \n",
    "fig.patch.set_facecolor([0]*4)\n",
    "\n",
    "ax = plt.axes()\n",
    "\n",
    "ax.plot(range(n),diam_old,c=colors[1],label='Cellpose')\n",
    "ax.plot(range(n),diam_new,c=colors[N],label='Omnipose')\n",
    "\n",
    "ax.legend(loc='best', frameon=False,labelcolor=axcol, fontsize = labelsize)\n",
    "ax.tick_params(axis='both', which='major', labelsize=labelsize,length=3, direction=\"out\",colors=axcol,bottom=True,left=True)\n",
    "ax.tick_params(axis='both', which='minor', labelsize=labelsize,length=3, direction=\"out\",colors=axcol,bottom=True,left=True)\n",
    "ax.set_ylabel('Diameter metric', fontsize = labelsize,c=axcol)\n",
    "ax.set_xlabel('Frame number', fontsize = labelsize, c=axcol)\n",
    "ax.set_facecolor(background_color)\n",
    "\n",
    "for spine in ax.spines.values():\n",
    "    spine.set_color(axcol)\n",
    "    \n",
    "ax.spines['top'].set_visible(False)\n",
    "ax.spines['right'].set_visible(False)\n",
    "\n",
    "plt.show()"
   ]
  },
  {
   "cell_type": "code",
   "execution_count": null,
   "id": "c54dbde7-7d66-4162-ae43-4c8500a0e71d",
   "metadata": {
    "mystnb": {
     "image": {
      "align": "center",
      "width": "300"
     }
    },
    "tags": [
     "hide-input"
    ]
   },
   "outputs": [],
   "source": []
  }
 ],
 "metadata": {
  "kernelspec": {
   "display_name": "Python 3 (ipykernel)",
   "language": "python",
   "name": "python3"
  },
  "language_info": {
   "codemirror_mode": {
    "name": "ipython",
    "version": 3
   },
   "file_extension": ".py",
   "mimetype": "text/x-python",
   "name": "python",
   "nbconvert_exporter": "python",
   "pygments_lexer": "ipython3",
   "version": "3.10.11"
  }
 },
 "nbformat": 4,
 "nbformat_minor": 5
}
